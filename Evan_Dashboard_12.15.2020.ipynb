{
 "cells": [
  {
   "cell_type": "code",
   "execution_count": 1,
   "metadata": {
    "extensions": {
     "jupyter_dashboards": {
      "version": 1,
      "views": {
       "grid_default": {},
       "report_default": {
        "hidden": true
       }
      }
     }
    }
   },
   "outputs": [],
   "source": [
    "import pandas as pd\n",
    "import sqlite3\n",
    "import matplotlib.pyplot as plt\n",
    "from sqlite3 import Error\n",
    "import pylab as p\n",
    "from sklearn.ensemble import RandomForestRegressor\n",
    "from sklearn.model_selection import train_test_split\n",
    "from sklearn import metrics\n",
    "import seaborn as sn\n",
    "import numpy as np\n",
    "from ipywidgets import interact, widgets\n",
    "\n",
    "def create_connection(db_file, delete_db=False):\n",
    "    import os\n",
    "    if delete_db and os.path.exists(db_file):\n",
    "        os.remove(db_file)\n",
    "\n",
    "    conn = None\n",
    "    try:\n",
    "        conn = sqlite3.connect(db_file)\n",
    "        conn.execute(\"PRAGMA foreign_keys = 1\")\n",
    "    except Error as e:\n",
    "        print(e)\n",
    "\n",
    "    return conn\n",
    "\n",
    "def execute_sql_statement(sql_statement, conn):\n",
    "    cur = conn.cursor()\n",
    "    cur.execute(sql_statement)\n",
    "\n",
    "    rows = cur.fetchall()\n",
    "\n",
    "    return rows"
   ]
  },
  {
   "cell_type": "code",
   "execution_count": 2,
   "metadata": {
    "extensions": {
     "jupyter_dashboards": {
      "version": 1,
      "views": {
       "grid_default": {},
       "report_default": {
        "hidden": true
       }
      }
     }
    }
   },
   "outputs": [],
   "source": [
    "conn = create_connection(\"project.db\")\n",
    "\n",
    "# Import data to be used for analysis\n",
    "sql_statement = \"\"\"\n",
    "        SELECT \n",
    "        Year,\n",
    "        TeamName, \n",
    "        Date, Odds\n",
    "        FROM FiveThirtyEight\n",
    "        INNER JOIN Season ON FiveThirtyEight.SeasonID = Season.SeasonID\n",
    "        INNER JOIN Team ON FiveThirtyEight.TeamID = Team.TeamID\n",
    "        INNER JOIN DataType ON FiveThirtyEight.DataTypeID = DataType.DataTypeID\n",
    "        ORDER BY Year, TeamName, Date ASC\n",
    "        ;\"\"\"\n",
    "df_538 = pd.read_sql_query(sql_statement, conn, parse_dates={'Date': {'format': '%Y-%m-%d'}})\n",
    "\n",
    "sql_statement = \"\"\"\n",
    "        SELECT \n",
    "        Year,\n",
    "        TeamName, \n",
    "        Date, Odds\n",
    "        FROM NormalizedBetting\n",
    "        INNER JOIN Season ON NormalizedBetting.SeasonID = Season.SeasonID\n",
    "        INNER JOIN Team ON NormalizedBetting.TeamID = Team.TeamID\n",
    "        INNER JOIN DataType ON NormalizedBetting.DataTypeID = DataType.DataTypeID\n",
    "        ORDER BY Year, TeamName, Date ASC\n",
    "        ;\"\"\"\n",
    "df_bet = pd.read_sql_query(sql_statement, conn, parse_dates={'Date': {'format': '%Y-%m-%d'}})\n",
    "\n",
    "sql_statement = \"\"\"\n",
    "        SELECT \n",
    "        Year,\n",
    "        TeamName, \n",
    "        Date, MoneyLine\n",
    "        FROM MoneyLineBetting\n",
    "        INNER JOIN Season ON MoneyLineBetting.SeasonID = Season.SeasonID\n",
    "        INNER JOIN Team ON MoneyLineBetting.TeamID = Team.TeamID\n",
    "        INNER JOIN DataType ON MoneyLineBetting.DataTypeID = DataType.DataTypeID\n",
    "        ORDER BY Year, TeamName, Date ASC\n",
    "        ;\"\"\"\n",
    "df_betML = pd.read_sql_query(sql_statement, conn, parse_dates={'Date': {'format': '%Y-%m-%d'}})\n",
    "\n",
    "sql_statement = \"\"\"\n",
    "        SELECT \n",
    "        Year,\n",
    "        TeamName, \n",
    "        Date, Rank, Odds\n",
    "        FROM PowerRanking\n",
    "        INNER JOIN Season ON PowerRanking.SeasonID = Season.SeasonID\n",
    "        INNER JOIN Team ON PowerRanking.TeamID = Team.TeamID\n",
    "        INNER JOIN DataType ON PowerRanking.DataTypeID = DataType.DataTypeID\n",
    "        ORDER BY Year, TeamName, Date ASC\n",
    "        ;\"\"\"\n",
    "df_PR = pd.read_sql_query(sql_statement, conn, parse_dates={'Date': {'format': '%Y-%m-%d'}})\n",
    "\n",
    "sql_statement = \"\"\"\n",
    "        SELECT \n",
    "        Year,\n",
    "        TeamName\n",
    "        FROM Season\n",
    "        INNER JOIN Team ON Season.ChampionID = Team.TeamID\n",
    "        ORDER BY Year ASC\n",
    "        ;\"\"\"\n",
    "df_champs = pd.read_sql_query(sql_statement, conn)\n",
    "\n",
    "sql_statement = \"\"\"\n",
    "        SELECT \n",
    "        TeamName, \n",
    "        Date,\n",
    "        Payout, \n",
    "        BetOdds, FiveThirtyEightOdds, RankOdds\n",
    "        FROM BetSamples\n",
    "        INNER JOIN Team ON BetSamples.TeamID = Team.TeamID\n",
    "        INNER JOIN DataType ON BetSamples.DataTypeID = DataType.DataTypeID\n",
    "        ORDER BY Date, TeamName ASC\n",
    "        ;\"\"\"\n",
    "df_betSamples = pd.read_sql_query(sql_statement, conn, parse_dates={'Date': {'format': '%Y-%m-%d'}})\n",
    "\n",
    "# Import raw data to show schema\n",
    "df_Team = pd.read_sql_query(\"SELECT * FROM Team;\", conn)\n",
    "df_Season = pd.read_sql_query(\"SELECT * FROM Season;\", conn)\n",
    "df_DataType = pd.read_sql_query(\"SELECT * FROM DataType;\", conn)\n",
    "df_FiveThirtyEight = pd.read_sql_query(\"SELECT * FROM FiveThirtyEight;\", conn)\n",
    "df_NormalizedBetting = pd.read_sql_query(\"SELECT * FROM NormalizedBetting;\", conn)\n",
    "df_MoneyLineBetting = pd.read_sql_query(\"SELECT * FROM MoneyLineBetting;\", conn)\n",
    "df_PowerRanking = pd.read_sql_query(\"SELECT * FROM PowerRanking;\", conn)\n",
    "df_BetSamples = pd.read_sql_query(\"SELECT * FROM BetSamples;\", conn)\n",
    "\n",
    "conn.close()"
   ]
  },
  {
   "cell_type": "markdown",
   "metadata": {
    "extensions": {
     "jupyter_dashboards": {
      "version": 1,
      "views": {
       "grid_default": {},
       "report_default": {
        "hidden": false
       }
      }
     }
    }
   },
   "source": [
    "# Motivation Behind Project (WHY)"
   ]
  },
  {
   "cell_type": "markdown",
   "metadata": {
    "extensions": {
     "jupyter_dashboards": {
      "version": 1,
      "views": {
       "grid_default": {},
       "report_default": {
        "hidden": false
       }
      }
     }
    }
   },
   "source": [
    "The objective of our project is to determine the best way of predicting an event’s occurrence, where betting markets, statistical models, and expert opinions are available. Best will be defined as a combination of how quickly a prediction converges on the correct answer and how accurate that prediction is over time.\n",
    "\n",
    "The scope of our project will be the National Basketball Association (NBA). We will begin with the NBA because of accessibility to historical data and its popularity in the analytics community. \n",
    "\n",
    "Within the NBA, the most popular event for betting markets is the Championship. Predictions of who will win the Championship begin in preseason and continue to change based on activity throughout the season until it converges on the winner at the end of the postseason. \n",
    "\n",
    "The core predictions we analyze will come from expert power rankings, betting markets, and FiveThirtyEight’s model. \n",
    "\n",
    "To answer the question of which predictor is best, we...\n",
    "- Assessed which predictors trail or lead the others\n",
    "- Determined if there are predictable patterns specific to a predictor\n",
    "\n",
    "Also, using all of the predictors, we generated a model to predict payout."
   ]
  },
  {
   "cell_type": "markdown",
   "metadata": {
    "extensions": {
     "jupyter_dashboards": {
      "version": 1,
      "views": {
       "grid_default": {},
       "report_default": {
        "hidden": false
       }
      }
     }
    }
   },
   "source": [
    "## Database Schema"
   ]
  },
  {
   "cell_type": "markdown",
   "metadata": {
    "extensions": {
     "jupyter_dashboards": {
      "version": 1,
      "views": {
       "grid_default": {},
       "report_default": {
        "hidden": false
       }
      }
     }
    }
   },
   "source": [
    "#### Review of Database we created (no PowerRank -> Odds)"
   ]
  },
  {
   "cell_type": "code",
   "execution_count": 3,
   "metadata": {
    "extensions": {
     "jupyter_dashboards": {
      "version": 1,
      "views": {
       "grid_default": {},
       "report_default": {
        "hidden": false
       }
      }
     }
    }
   },
   "outputs": [
    {
     "name": "stdout",
     "output_type": "stream",
     "text": [
      "\n",
      "Team Table\n"
     ]
    },
    {
     "data": {
      "text/html": [
       "<div>\n",
       "<style scoped>\n",
       "    .dataframe tbody tr th:only-of-type {\n",
       "        vertical-align: middle;\n",
       "    }\n",
       "\n",
       "    .dataframe tbody tr th {\n",
       "        vertical-align: top;\n",
       "    }\n",
       "\n",
       "    .dataframe thead th {\n",
       "        text-align: right;\n",
       "    }\n",
       "</style>\n",
       "<table border=\"1\" class=\"dataframe\">\n",
       "  <thead>\n",
       "    <tr style=\"text-align: right;\">\n",
       "      <th></th>\n",
       "      <th>TeamID</th>\n",
       "      <th>TeamName</th>\n",
       "    </tr>\n",
       "  </thead>\n",
       "  <tbody>\n",
       "    <tr>\n",
       "      <th>0</th>\n",
       "      <td>1</td>\n",
       "      <td>Bucks</td>\n",
       "    </tr>\n",
       "    <tr>\n",
       "      <th>1</th>\n",
       "      <td>2</td>\n",
       "      <td>Timberwolves</td>\n",
       "    </tr>\n",
       "    <tr>\n",
       "      <th>2</th>\n",
       "      <td>3</td>\n",
       "      <td>Heat</td>\n",
       "    </tr>\n",
       "    <tr>\n",
       "      <th>3</th>\n",
       "      <td>4</td>\n",
       "      <td>Wizards</td>\n",
       "    </tr>\n",
       "    <tr>\n",
       "      <th>4</th>\n",
       "      <td>5</td>\n",
       "      <td>Hawks</td>\n",
       "    </tr>\n",
       "    <tr>\n",
       "      <th>5</th>\n",
       "      <td>6</td>\n",
       "      <td>Celtics</td>\n",
       "    </tr>\n",
       "    <tr>\n",
       "      <th>6</th>\n",
       "      <td>7</td>\n",
       "      <td>Pistons</td>\n",
       "    </tr>\n",
       "    <tr>\n",
       "      <th>7</th>\n",
       "      <td>8</td>\n",
       "      <td>Nuggets</td>\n",
       "    </tr>\n",
       "    <tr>\n",
       "      <th>8</th>\n",
       "      <td>9</td>\n",
       "      <td>Knicks</td>\n",
       "    </tr>\n",
       "    <tr>\n",
       "      <th>9</th>\n",
       "      <td>10</td>\n",
       "      <td>Mavericks</td>\n",
       "    </tr>\n",
       "    <tr>\n",
       "      <th>10</th>\n",
       "      <td>11</td>\n",
       "      <td>Nets</td>\n",
       "    </tr>\n",
       "    <tr>\n",
       "      <th>11</th>\n",
       "      <td>12</td>\n",
       "      <td>Trail Blazers</td>\n",
       "    </tr>\n",
       "    <tr>\n",
       "      <th>12</th>\n",
       "      <td>13</td>\n",
       "      <td>Thunder</td>\n",
       "    </tr>\n",
       "    <tr>\n",
       "      <th>13</th>\n",
       "      <td>14</td>\n",
       "      <td>Raptors</td>\n",
       "    </tr>\n",
       "    <tr>\n",
       "      <th>14</th>\n",
       "      <td>15</td>\n",
       "      <td>Bulls</td>\n",
       "    </tr>\n",
       "    <tr>\n",
       "      <th>15</th>\n",
       "      <td>16</td>\n",
       "      <td>Hornets</td>\n",
       "    </tr>\n",
       "    <tr>\n",
       "      <th>16</th>\n",
       "      <td>17</td>\n",
       "      <td>Jazz</td>\n",
       "    </tr>\n",
       "    <tr>\n",
       "      <th>17</th>\n",
       "      <td>18</td>\n",
       "      <td>Warriors</td>\n",
       "    </tr>\n",
       "    <tr>\n",
       "      <th>18</th>\n",
       "      <td>19</td>\n",
       "      <td>Cavaliers</td>\n",
       "    </tr>\n",
       "    <tr>\n",
       "      <th>19</th>\n",
       "      <td>20</td>\n",
       "      <td>Rockets</td>\n",
       "    </tr>\n",
       "    <tr>\n",
       "      <th>20</th>\n",
       "      <td>21</td>\n",
       "      <td>Lakers</td>\n",
       "    </tr>\n",
       "    <tr>\n",
       "      <th>21</th>\n",
       "      <td>22</td>\n",
       "      <td>76ers</td>\n",
       "    </tr>\n",
       "    <tr>\n",
       "      <th>22</th>\n",
       "      <td>23</td>\n",
       "      <td>Grizzlies</td>\n",
       "    </tr>\n",
       "    <tr>\n",
       "      <th>23</th>\n",
       "      <td>24</td>\n",
       "      <td>Pelicans</td>\n",
       "    </tr>\n",
       "    <tr>\n",
       "      <th>24</th>\n",
       "      <td>25</td>\n",
       "      <td>Clippers</td>\n",
       "    </tr>\n",
       "    <tr>\n",
       "      <th>25</th>\n",
       "      <td>26</td>\n",
       "      <td>Kings</td>\n",
       "    </tr>\n",
       "    <tr>\n",
       "      <th>26</th>\n",
       "      <td>27</td>\n",
       "      <td>Magic</td>\n",
       "    </tr>\n",
       "    <tr>\n",
       "      <th>27</th>\n",
       "      <td>28</td>\n",
       "      <td>Suns</td>\n",
       "    </tr>\n",
       "    <tr>\n",
       "      <th>28</th>\n",
       "      <td>29</td>\n",
       "      <td>Pacers</td>\n",
       "    </tr>\n",
       "    <tr>\n",
       "      <th>29</th>\n",
       "      <td>30</td>\n",
       "      <td>Spurs</td>\n",
       "    </tr>\n",
       "    <tr>\n",
       "      <th>30</th>\n",
       "      <td>31</td>\n",
       "      <td>Sonics</td>\n",
       "    </tr>\n",
       "  </tbody>\n",
       "</table>\n",
       "</div>"
      ],
      "text/plain": [
       "    TeamID       TeamName\n",
       "0        1          Bucks\n",
       "1        2   Timberwolves\n",
       "2        3           Heat\n",
       "3        4        Wizards\n",
       "4        5          Hawks\n",
       "5        6        Celtics\n",
       "6        7        Pistons\n",
       "7        8        Nuggets\n",
       "8        9         Knicks\n",
       "9       10      Mavericks\n",
       "10      11           Nets\n",
       "11      12  Trail Blazers\n",
       "12      13        Thunder\n",
       "13      14        Raptors\n",
       "14      15          Bulls\n",
       "15      16        Hornets\n",
       "16      17           Jazz\n",
       "17      18       Warriors\n",
       "18      19      Cavaliers\n",
       "19      20        Rockets\n",
       "20      21         Lakers\n",
       "21      22          76ers\n",
       "22      23      Grizzlies\n",
       "23      24       Pelicans\n",
       "24      25       Clippers\n",
       "25      26          Kings\n",
       "26      27          Magic\n",
       "27      28           Suns\n",
       "28      29         Pacers\n",
       "29      30          Spurs\n",
       "30      31         Sonics"
      ]
     },
     "metadata": {},
     "output_type": "display_data"
    },
    {
     "name": "stdout",
     "output_type": "stream",
     "text": [
      "\n",
      "Season Table\n"
     ]
    },
    {
     "data": {
      "text/html": [
       "<div>\n",
       "<style scoped>\n",
       "    .dataframe tbody tr th:only-of-type {\n",
       "        vertical-align: middle;\n",
       "    }\n",
       "\n",
       "    .dataframe tbody tr th {\n",
       "        vertical-align: top;\n",
       "    }\n",
       "\n",
       "    .dataframe thead th {\n",
       "        text-align: right;\n",
       "    }\n",
       "</style>\n",
       "<table border=\"1\" class=\"dataframe\">\n",
       "  <thead>\n",
       "    <tr style=\"text-align: right;\">\n",
       "      <th></th>\n",
       "      <th>SeasonID</th>\n",
       "      <th>Year</th>\n",
       "      <th>ChampionID</th>\n",
       "    </tr>\n",
       "  </thead>\n",
       "  <tbody>\n",
       "    <tr>\n",
       "      <th>0</th>\n",
       "      <td>1</td>\n",
       "      <td>2019</td>\n",
       "      <td>14</td>\n",
       "    </tr>\n",
       "    <tr>\n",
       "      <th>1</th>\n",
       "      <td>2</td>\n",
       "      <td>2018</td>\n",
       "      <td>18</td>\n",
       "    </tr>\n",
       "    <tr>\n",
       "      <th>2</th>\n",
       "      <td>3</td>\n",
       "      <td>2017</td>\n",
       "      <td>18</td>\n",
       "    </tr>\n",
       "    <tr>\n",
       "      <th>3</th>\n",
       "      <td>4</td>\n",
       "      <td>2016</td>\n",
       "      <td>19</td>\n",
       "    </tr>\n",
       "    <tr>\n",
       "      <th>4</th>\n",
       "      <td>5</td>\n",
       "      <td>2015</td>\n",
       "      <td>18</td>\n",
       "    </tr>\n",
       "    <tr>\n",
       "      <th>5</th>\n",
       "      <td>6</td>\n",
       "      <td>2014</td>\n",
       "      <td>30</td>\n",
       "    </tr>\n",
       "    <tr>\n",
       "      <th>6</th>\n",
       "      <td>7</td>\n",
       "      <td>2013</td>\n",
       "      <td>3</td>\n",
       "    </tr>\n",
       "    <tr>\n",
       "      <th>7</th>\n",
       "      <td>8</td>\n",
       "      <td>2012</td>\n",
       "      <td>3</td>\n",
       "    </tr>\n",
       "    <tr>\n",
       "      <th>8</th>\n",
       "      <td>9</td>\n",
       "      <td>2011</td>\n",
       "      <td>10</td>\n",
       "    </tr>\n",
       "    <tr>\n",
       "      <th>9</th>\n",
       "      <td>10</td>\n",
       "      <td>2010</td>\n",
       "      <td>21</td>\n",
       "    </tr>\n",
       "    <tr>\n",
       "      <th>10</th>\n",
       "      <td>11</td>\n",
       "      <td>2009</td>\n",
       "      <td>21</td>\n",
       "    </tr>\n",
       "    <tr>\n",
       "      <th>11</th>\n",
       "      <td>12</td>\n",
       "      <td>2008</td>\n",
       "      <td>6</td>\n",
       "    </tr>\n",
       "    <tr>\n",
       "      <th>12</th>\n",
       "      <td>13</td>\n",
       "      <td>2007</td>\n",
       "      <td>30</td>\n",
       "    </tr>\n",
       "    <tr>\n",
       "      <th>13</th>\n",
       "      <td>14</td>\n",
       "      <td>2006</td>\n",
       "      <td>3</td>\n",
       "    </tr>\n",
       "    <tr>\n",
       "      <th>14</th>\n",
       "      <td>15</td>\n",
       "      <td>2005</td>\n",
       "      <td>30</td>\n",
       "    </tr>\n",
       "  </tbody>\n",
       "</table>\n",
       "</div>"
      ],
      "text/plain": [
       "    SeasonID  Year  ChampionID\n",
       "0          1  2019          14\n",
       "1          2  2018          18\n",
       "2          3  2017          18\n",
       "3          4  2016          19\n",
       "4          5  2015          18\n",
       "5          6  2014          30\n",
       "6          7  2013           3\n",
       "7          8  2012           3\n",
       "8          9  2011          10\n",
       "9         10  2010          21\n",
       "10        11  2009          21\n",
       "11        12  2008           6\n",
       "12        13  2007          30\n",
       "13        14  2006           3\n",
       "14        15  2005          30"
      ]
     },
     "metadata": {},
     "output_type": "display_data"
    },
    {
     "name": "stdout",
     "output_type": "stream",
     "text": [
      "\n",
      "DataType Table\n"
     ]
    },
    {
     "data": {
      "text/html": [
       "<div>\n",
       "<style scoped>\n",
       "    .dataframe tbody tr th:only-of-type {\n",
       "        vertical-align: middle;\n",
       "    }\n",
       "\n",
       "    .dataframe tbody tr th {\n",
       "        vertical-align: top;\n",
       "    }\n",
       "\n",
       "    .dataframe thead th {\n",
       "        text-align: right;\n",
       "    }\n",
       "</style>\n",
       "<table border=\"1\" class=\"dataframe\">\n",
       "  <thead>\n",
       "    <tr style=\"text-align: right;\">\n",
       "      <th></th>\n",
       "      <th>DataTypeID</th>\n",
       "      <th>DataType</th>\n",
       "    </tr>\n",
       "  </thead>\n",
       "  <tbody>\n",
       "    <tr>\n",
       "      <th>0</th>\n",
       "      <td>1</td>\n",
       "      <td>FiveThirtyEight</td>\n",
       "    </tr>\n",
       "    <tr>\n",
       "      <th>1</th>\n",
       "      <td>2</td>\n",
       "      <td>NormalizedBetting</td>\n",
       "    </tr>\n",
       "    <tr>\n",
       "      <th>2</th>\n",
       "      <td>3</td>\n",
       "      <td>MoneyLineBetting</td>\n",
       "    </tr>\n",
       "    <tr>\n",
       "      <th>3</th>\n",
       "      <td>4</td>\n",
       "      <td>PowerRanking</td>\n",
       "    </tr>\n",
       "    <tr>\n",
       "      <th>4</th>\n",
       "      <td>5</td>\n",
       "      <td>BetSamples</td>\n",
       "    </tr>\n",
       "  </tbody>\n",
       "</table>\n",
       "</div>"
      ],
      "text/plain": [
       "   DataTypeID           DataType\n",
       "0           1    FiveThirtyEight\n",
       "1           2  NormalizedBetting\n",
       "2           3   MoneyLineBetting\n",
       "3           4       PowerRanking\n",
       "4           5         BetSamples"
      ]
     },
     "metadata": {},
     "output_type": "display_data"
    },
    {
     "name": "stdout",
     "output_type": "stream",
     "text": [
      "\n",
      "FiveThirtyEight Table\n"
     ]
    },
    {
     "data": {
      "text/html": [
       "<div>\n",
       "<style scoped>\n",
       "    .dataframe tbody tr th:only-of-type {\n",
       "        vertical-align: middle;\n",
       "    }\n",
       "\n",
       "    .dataframe tbody tr th {\n",
       "        vertical-align: top;\n",
       "    }\n",
       "\n",
       "    .dataframe thead th {\n",
       "        text-align: right;\n",
       "    }\n",
       "</style>\n",
       "<table border=\"1\" class=\"dataframe\">\n",
       "  <thead>\n",
       "    <tr style=\"text-align: right;\">\n",
       "      <th></th>\n",
       "      <th>DataID</th>\n",
       "      <th>DataTypeID</th>\n",
       "      <th>SeasonID</th>\n",
       "      <th>TeamID</th>\n",
       "      <th>Date</th>\n",
       "      <th>Odds</th>\n",
       "    </tr>\n",
       "  </thead>\n",
       "  <tbody>\n",
       "    <tr>\n",
       "      <th>0</th>\n",
       "      <td>5</td>\n",
       "      <td>1</td>\n",
       "      <td>1</td>\n",
       "      <td>1</td>\n",
       "      <td>2019-06-13</td>\n",
       "      <td>0.0</td>\n",
       "    </tr>\n",
       "    <tr>\n",
       "      <th>1</th>\n",
       "      <td>6</td>\n",
       "      <td>1</td>\n",
       "      <td>1</td>\n",
       "      <td>2</td>\n",
       "      <td>2019-06-13</td>\n",
       "      <td>0.0</td>\n",
       "    </tr>\n",
       "    <tr>\n",
       "      <th>2</th>\n",
       "      <td>7</td>\n",
       "      <td>1</td>\n",
       "      <td>1</td>\n",
       "      <td>3</td>\n",
       "      <td>2019-06-13</td>\n",
       "      <td>0.0</td>\n",
       "    </tr>\n",
       "    <tr>\n",
       "      <th>3</th>\n",
       "      <td>8</td>\n",
       "      <td>1</td>\n",
       "      <td>1</td>\n",
       "      <td>4</td>\n",
       "      <td>2019-06-13</td>\n",
       "      <td>0.0</td>\n",
       "    </tr>\n",
       "    <tr>\n",
       "      <th>4</th>\n",
       "      <td>9</td>\n",
       "      <td>1</td>\n",
       "      <td>1</td>\n",
       "      <td>5</td>\n",
       "      <td>2019-06-13</td>\n",
       "      <td>0.0</td>\n",
       "    </tr>\n",
       "  </tbody>\n",
       "</table>\n",
       "</div>"
      ],
      "text/plain": [
       "   DataID  DataTypeID  SeasonID TeamID        Date  Odds\n",
       "0       5           1         1      1  2019-06-13   0.0\n",
       "1       6           1         1      2  2019-06-13   0.0\n",
       "2       7           1         1      3  2019-06-13   0.0\n",
       "3       8           1         1      4  2019-06-13   0.0\n",
       "4       9           1         1      5  2019-06-13   0.0"
      ]
     },
     "metadata": {},
     "output_type": "display_data"
    },
    {
     "name": "stdout",
     "output_type": "stream",
     "text": [
      "\n",
      "NormalizedBetting Table\n"
     ]
    },
    {
     "data": {
      "text/html": [
       "<div>\n",
       "<style scoped>\n",
       "    .dataframe tbody tr th:only-of-type {\n",
       "        vertical-align: middle;\n",
       "    }\n",
       "\n",
       "    .dataframe tbody tr th {\n",
       "        vertical-align: top;\n",
       "    }\n",
       "\n",
       "    .dataframe thead th {\n",
       "        text-align: right;\n",
       "    }\n",
       "</style>\n",
       "<table border=\"1\" class=\"dataframe\">\n",
       "  <thead>\n",
       "    <tr style=\"text-align: right;\">\n",
       "      <th></th>\n",
       "      <th>DataID</th>\n",
       "      <th>DataTypeID</th>\n",
       "      <th>SeasonID</th>\n",
       "      <th>TeamID</th>\n",
       "      <th>Date</th>\n",
       "      <th>Odds</th>\n",
       "    </tr>\n",
       "  </thead>\n",
       "  <tbody>\n",
       "    <tr>\n",
       "      <th>0</th>\n",
       "      <td>1</td>\n",
       "      <td>2</td>\n",
       "      <td>1</td>\n",
       "      <td>14</td>\n",
       "      <td>2018-06-13</td>\n",
       "      <td>0.011925</td>\n",
       "    </tr>\n",
       "    <tr>\n",
       "      <th>1</th>\n",
       "      <td>2</td>\n",
       "      <td>2</td>\n",
       "      <td>1</td>\n",
       "      <td>18</td>\n",
       "      <td>2018-06-13</td>\n",
       "      <td>0.355111</td>\n",
       "    </tr>\n",
       "    <tr>\n",
       "      <th>2</th>\n",
       "      <td>3</td>\n",
       "      <td>2</td>\n",
       "      <td>1</td>\n",
       "      <td>1</td>\n",
       "      <td>2018-06-13</td>\n",
       "      <td>0.009291</td>\n",
       "    </tr>\n",
       "    <tr>\n",
       "      <th>3</th>\n",
       "      <td>4</td>\n",
       "      <td>2</td>\n",
       "      <td>1</td>\n",
       "      <td>12</td>\n",
       "      <td>2018-06-13</td>\n",
       "      <td>0.007911</td>\n",
       "    </tr>\n",
       "    <tr>\n",
       "      <th>4</th>\n",
       "      <td>5</td>\n",
       "      <td>2</td>\n",
       "      <td>1</td>\n",
       "      <td>20</td>\n",
       "      <td>2018-06-13</td>\n",
       "      <td>0.168210</td>\n",
       "    </tr>\n",
       "  </tbody>\n",
       "</table>\n",
       "</div>"
      ],
      "text/plain": [
       "   DataID  DataTypeID  SeasonID TeamID        Date      Odds\n",
       "0       1           2         1     14  2018-06-13  0.011925\n",
       "1       2           2         1     18  2018-06-13  0.355111\n",
       "2       3           2         1      1  2018-06-13  0.009291\n",
       "3       4           2         1     12  2018-06-13  0.007911\n",
       "4       5           2         1     20  2018-06-13  0.168210"
      ]
     },
     "metadata": {},
     "output_type": "display_data"
    },
    {
     "name": "stdout",
     "output_type": "stream",
     "text": [
      "\n",
      "MoneyLine Table\n"
     ]
    },
    {
     "data": {
      "text/html": [
       "<div>\n",
       "<style scoped>\n",
       "    .dataframe tbody tr th:only-of-type {\n",
       "        vertical-align: middle;\n",
       "    }\n",
       "\n",
       "    .dataframe tbody tr th {\n",
       "        vertical-align: top;\n",
       "    }\n",
       "\n",
       "    .dataframe thead th {\n",
       "        text-align: right;\n",
       "    }\n",
       "</style>\n",
       "<table border=\"1\" class=\"dataframe\">\n",
       "  <thead>\n",
       "    <tr style=\"text-align: right;\">\n",
       "      <th></th>\n",
       "      <th>DataID</th>\n",
       "      <th>DataTypeID</th>\n",
       "      <th>SeasonID</th>\n",
       "      <th>TeamID</th>\n",
       "      <th>Date</th>\n",
       "      <th>MoneyLine</th>\n",
       "    </tr>\n",
       "  </thead>\n",
       "  <tbody>\n",
       "    <tr>\n",
       "      <th>0</th>\n",
       "      <td>1</td>\n",
       "      <td>3</td>\n",
       "      <td>1</td>\n",
       "      <td>14</td>\n",
       "      <td>2018-06-13</td>\n",
       "      <td>6600.0</td>\n",
       "    </tr>\n",
       "    <tr>\n",
       "      <th>1</th>\n",
       "      <td>2</td>\n",
       "      <td>3</td>\n",
       "      <td>1</td>\n",
       "      <td>18</td>\n",
       "      <td>2018-06-13</td>\n",
       "      <td>125.0</td>\n",
       "    </tr>\n",
       "    <tr>\n",
       "      <th>2</th>\n",
       "      <td>3</td>\n",
       "      <td>3</td>\n",
       "      <td>1</td>\n",
       "      <td>1</td>\n",
       "      <td>2018-06-13</td>\n",
       "      <td>8500.0</td>\n",
       "    </tr>\n",
       "    <tr>\n",
       "      <th>3</th>\n",
       "      <td>4</td>\n",
       "      <td>3</td>\n",
       "      <td>1</td>\n",
       "      <td>12</td>\n",
       "      <td>2018-06-13</td>\n",
       "      <td>10000.0</td>\n",
       "    </tr>\n",
       "    <tr>\n",
       "      <th>4</th>\n",
       "      <td>5</td>\n",
       "      <td>3</td>\n",
       "      <td>1</td>\n",
       "      <td>20</td>\n",
       "      <td>2018-06-13</td>\n",
       "      <td>375.0</td>\n",
       "    </tr>\n",
       "  </tbody>\n",
       "</table>\n",
       "</div>"
      ],
      "text/plain": [
       "   DataID  DataTypeID  SeasonID TeamID        Date  MoneyLine\n",
       "0       1           3         1     14  2018-06-13     6600.0\n",
       "1       2           3         1     18  2018-06-13      125.0\n",
       "2       3           3         1      1  2018-06-13     8500.0\n",
       "3       4           3         1     12  2018-06-13    10000.0\n",
       "4       5           3         1     20  2018-06-13      375.0"
      ]
     },
     "metadata": {},
     "output_type": "display_data"
    },
    {
     "name": "stdout",
     "output_type": "stream",
     "text": [
      "\n",
      "PowerRanking Table\n"
     ]
    },
    {
     "data": {
      "text/html": [
       "<div>\n",
       "<style scoped>\n",
       "    .dataframe tbody tr th:only-of-type {\n",
       "        vertical-align: middle;\n",
       "    }\n",
       "\n",
       "    .dataframe tbody tr th {\n",
       "        vertical-align: top;\n",
       "    }\n",
       "\n",
       "    .dataframe thead th {\n",
       "        text-align: right;\n",
       "    }\n",
       "</style>\n",
       "<table border=\"1\" class=\"dataframe\">\n",
       "  <thead>\n",
       "    <tr style=\"text-align: right;\">\n",
       "      <th></th>\n",
       "      <th>DataID</th>\n",
       "      <th>DataTypeID</th>\n",
       "      <th>SeasonID</th>\n",
       "      <th>TeamID</th>\n",
       "      <th>Date</th>\n",
       "      <th>Rank</th>\n",
       "      <th>Odds</th>\n",
       "    </tr>\n",
       "  </thead>\n",
       "  <tbody>\n",
       "    <tr>\n",
       "      <th>0</th>\n",
       "      <td>1</td>\n",
       "      <td>4</td>\n",
       "      <td>15</td>\n",
       "      <td>28</td>\n",
       "      <td>2005-03-14</td>\n",
       "      <td>1</td>\n",
       "      <td>0.2866</td>\n",
       "    </tr>\n",
       "    <tr>\n",
       "      <th>1</th>\n",
       "      <td>2</td>\n",
       "      <td>4</td>\n",
       "      <td>15</td>\n",
       "      <td>3</td>\n",
       "      <td>2005-03-14</td>\n",
       "      <td>2</td>\n",
       "      <td>0.2136</td>\n",
       "    </tr>\n",
       "    <tr>\n",
       "      <th>2</th>\n",
       "      <td>3</td>\n",
       "      <td>4</td>\n",
       "      <td>15</td>\n",
       "      <td>30</td>\n",
       "      <td>2005-03-14</td>\n",
       "      <td>3</td>\n",
       "      <td>0.1552</td>\n",
       "    </tr>\n",
       "    <tr>\n",
       "      <th>3</th>\n",
       "      <td>4</td>\n",
       "      <td>4</td>\n",
       "      <td>15</td>\n",
       "      <td>31</td>\n",
       "      <td>2005-03-14</td>\n",
       "      <td>4</td>\n",
       "      <td>0.1105</td>\n",
       "    </tr>\n",
       "    <tr>\n",
       "      <th>4</th>\n",
       "      <td>5</td>\n",
       "      <td>4</td>\n",
       "      <td>15</td>\n",
       "      <td>7</td>\n",
       "      <td>2005-03-14</td>\n",
       "      <td>5</td>\n",
       "      <td>0.0775</td>\n",
       "    </tr>\n",
       "  </tbody>\n",
       "</table>\n",
       "</div>"
      ],
      "text/plain": [
       "   DataID  DataTypeID  SeasonID TeamID        Date  Rank    Odds\n",
       "0       1           4        15     28  2005-03-14     1  0.2866\n",
       "1       2           4        15      3  2005-03-14     2  0.2136\n",
       "2       3           4        15     30  2005-03-14     3  0.1552\n",
       "3       4           4        15     31  2005-03-14     4  0.1105\n",
       "4       5           4        15      7  2005-03-14     5  0.0775"
      ]
     },
     "metadata": {},
     "output_type": "display_data"
    },
    {
     "name": "stdout",
     "output_type": "stream",
     "text": [
      "\n",
      "BetSamples Table\n"
     ]
    },
    {
     "data": {
      "text/html": [
       "<div>\n",
       "<style scoped>\n",
       "    .dataframe tbody tr th:only-of-type {\n",
       "        vertical-align: middle;\n",
       "    }\n",
       "\n",
       "    .dataframe tbody tr th {\n",
       "        vertical-align: top;\n",
       "    }\n",
       "\n",
       "    .dataframe thead th {\n",
       "        text-align: right;\n",
       "    }\n",
       "</style>\n",
       "<table border=\"1\" class=\"dataframe\">\n",
       "  <thead>\n",
       "    <tr style=\"text-align: right;\">\n",
       "      <th></th>\n",
       "      <th>DataID</th>\n",
       "      <th>DataTypeID</th>\n",
       "      <th>TeamID</th>\n",
       "      <th>Date</th>\n",
       "      <th>Payout</th>\n",
       "      <th>BetOdds</th>\n",
       "      <th>FiveThirtyEightOdds</th>\n",
       "      <th>RankOdds</th>\n",
       "    </tr>\n",
       "  </thead>\n",
       "  <tbody>\n",
       "    <tr>\n",
       "      <th>0</th>\n",
       "      <td>1</td>\n",
       "      <td>5</td>\n",
       "      <td>22</td>\n",
       "      <td>2015-10-28</td>\n",
       "      <td>-100.0</td>\n",
       "      <td>0.000871</td>\n",
       "      <td>0.0000</td>\n",
       "      <td>0.0000</td>\n",
       "    </tr>\n",
       "    <tr>\n",
       "      <th>1</th>\n",
       "      <td>2</td>\n",
       "      <td>5</td>\n",
       "      <td>1</td>\n",
       "      <td>2015-10-28</td>\n",
       "      <td>-100.0</td>\n",
       "      <td>0.012637</td>\n",
       "      <td>0.0018</td>\n",
       "      <td>0.0000</td>\n",
       "    </tr>\n",
       "    <tr>\n",
       "      <th>2</th>\n",
       "      <td>3</td>\n",
       "      <td>5</td>\n",
       "      <td>15</td>\n",
       "      <td>2015-10-28</td>\n",
       "      <td>-100.0</td>\n",
       "      <td>0.051293</td>\n",
       "      <td>0.0315</td>\n",
       "      <td>0.0000</td>\n",
       "    </tr>\n",
       "    <tr>\n",
       "      <th>3</th>\n",
       "      <td>4</td>\n",
       "      <td>5</td>\n",
       "      <td>19</td>\n",
       "      <td>2015-10-28</td>\n",
       "      <td>280.0</td>\n",
       "      <td>0.229467</td>\n",
       "      <td>0.2506</td>\n",
       "      <td>0.2136</td>\n",
       "    </tr>\n",
       "    <tr>\n",
       "      <th>4</th>\n",
       "      <td>5</td>\n",
       "      <td>5</td>\n",
       "      <td>6</td>\n",
       "      <td>2015-10-28</td>\n",
       "      <td>-100.0</td>\n",
       "      <td>0.005590</td>\n",
       "      <td>0.0309</td>\n",
       "      <td>0.0000</td>\n",
       "    </tr>\n",
       "  </tbody>\n",
       "</table>\n",
       "</div>"
      ],
      "text/plain": [
       "   DataID  DataTypeID  TeamID        Date  Payout   BetOdds  \\\n",
       "0       1           5      22  2015-10-28  -100.0  0.000871   \n",
       "1       2           5       1  2015-10-28  -100.0  0.012637   \n",
       "2       3           5      15  2015-10-28  -100.0  0.051293   \n",
       "3       4           5      19  2015-10-28   280.0  0.229467   \n",
       "4       5           5       6  2015-10-28  -100.0  0.005590   \n",
       "\n",
       "   FiveThirtyEightOdds  RankOdds  \n",
       "0               0.0000    0.0000  \n",
       "1               0.0018    0.0000  \n",
       "2               0.0315    0.0000  \n",
       "3               0.2506    0.2136  \n",
       "4               0.0309    0.0000  "
      ]
     },
     "metadata": {},
     "output_type": "display_data"
    }
   ],
   "source": [
    "print('\\nTeam Table')\n",
    "display(df_Team)\n",
    "print('\\nSeason Table')\n",
    "display(df_Season)\n",
    "print('\\nDataType Table')\n",
    "display(df_DataType)\n",
    "print('\\nFiveThirtyEight Table')\n",
    "display(df_FiveThirtyEight.head())\n",
    "print('\\nNormalizedBetting Table')\n",
    "display(df_NormalizedBetting.head())\n",
    "print('\\nMoneyLine Table')\n",
    "display(df_MoneyLineBetting.head())\n",
    "print('\\nPowerRanking Table')\n",
    "display(df_PowerRanking.head())\n",
    "print('\\nBetSamples Table')\n",
    "display(df_BetSamples.head())"
   ]
  },
  {
   "cell_type": "markdown",
   "metadata": {
    "extensions": {
     "jupyter_dashboards": {
      "version": 1,
      "views": {
       "grid_default": {},
       "report_default": {
        "hidden": false
       }
      }
     }
    }
   },
   "source": [
    "## SQL imports and usable data after joins"
   ]
  },
  {
   "cell_type": "code",
   "execution_count": 61,
   "metadata": {
    "extensions": {
     "jupyter_dashboards": {
      "version": 1,
      "views": {
       "grid_default": {},
       "report_default": {
        "hidden": false
       }
      }
     }
    }
   },
   "outputs": [
    {
     "name": "stdout",
     "output_type": "stream",
     "text": [
      "\n",
      "FiveThirtyEight Table\n"
     ]
    },
    {
     "data": {
      "text/html": [
       "<div>\n",
       "<style scoped>\n",
       "    .dataframe tbody tr th:only-of-type {\n",
       "        vertical-align: middle;\n",
       "    }\n",
       "\n",
       "    .dataframe tbody tr th {\n",
       "        vertical-align: top;\n",
       "    }\n",
       "\n",
       "    .dataframe thead th {\n",
       "        text-align: right;\n",
       "    }\n",
       "</style>\n",
       "<table border=\"1\" class=\"dataframe\">\n",
       "  <thead>\n",
       "    <tr style=\"text-align: right;\">\n",
       "      <th></th>\n",
       "      <th>Year</th>\n",
       "      <th>TeamName</th>\n",
       "      <th>Date</th>\n",
       "      <th>Odds</th>\n",
       "    </tr>\n",
       "  </thead>\n",
       "  <tbody>\n",
       "    <tr>\n",
       "      <th>0</th>\n",
       "      <td>2016</td>\n",
       "      <td>76ers</td>\n",
       "      <td>2015-10-27</td>\n",
       "      <td>0.0</td>\n",
       "    </tr>\n",
       "    <tr>\n",
       "      <th>1</th>\n",
       "      <td>2016</td>\n",
       "      <td>76ers</td>\n",
       "      <td>2015-10-28</td>\n",
       "      <td>0.0</td>\n",
       "    </tr>\n",
       "    <tr>\n",
       "      <th>2</th>\n",
       "      <td>2016</td>\n",
       "      <td>76ers</td>\n",
       "      <td>2015-10-29</td>\n",
       "      <td>0.0</td>\n",
       "    </tr>\n",
       "    <tr>\n",
       "      <th>3</th>\n",
       "      <td>2016</td>\n",
       "      <td>76ers</td>\n",
       "      <td>2015-10-30</td>\n",
       "      <td>0.0</td>\n",
       "    </tr>\n",
       "    <tr>\n",
       "      <th>4</th>\n",
       "      <td>2016</td>\n",
       "      <td>76ers</td>\n",
       "      <td>2015-10-31</td>\n",
       "      <td>0.0</td>\n",
       "    </tr>\n",
       "  </tbody>\n",
       "</table>\n",
       "</div>"
      ],
      "text/plain": [
       "   Year TeamName       Date  Odds\n",
       "0  2016    76ers 2015-10-27   0.0\n",
       "1  2016    76ers 2015-10-28   0.0\n",
       "2  2016    76ers 2015-10-29   0.0\n",
       "3  2016    76ers 2015-10-30   0.0\n",
       "4  2016    76ers 2015-10-31   0.0"
      ]
     },
     "metadata": {},
     "output_type": "display_data"
    },
    {
     "name": "stdout",
     "output_type": "stream",
     "text": [
      "\n",
      "NormalizedBetting Table\n"
     ]
    },
    {
     "data": {
      "text/html": [
       "<div>\n",
       "<style scoped>\n",
       "    .dataframe tbody tr th:only-of-type {\n",
       "        vertical-align: middle;\n",
       "    }\n",
       "\n",
       "    .dataframe tbody tr th {\n",
       "        vertical-align: top;\n",
       "    }\n",
       "\n",
       "    .dataframe thead th {\n",
       "        text-align: right;\n",
       "    }\n",
       "</style>\n",
       "<table border=\"1\" class=\"dataframe\">\n",
       "  <thead>\n",
       "    <tr style=\"text-align: right;\">\n",
       "      <th></th>\n",
       "      <th>Year</th>\n",
       "      <th>TeamName</th>\n",
       "      <th>Date</th>\n",
       "      <th>Odds</th>\n",
       "    </tr>\n",
       "  </thead>\n",
       "  <tbody>\n",
       "    <tr>\n",
       "      <th>0</th>\n",
       "      <td>2016</td>\n",
       "      <td>76ers</td>\n",
       "      <td>2015-06-17</td>\n",
       "      <td>0.003185</td>\n",
       "    </tr>\n",
       "    <tr>\n",
       "      <th>1</th>\n",
       "      <td>2016</td>\n",
       "      <td>76ers</td>\n",
       "      <td>2015-08-01</td>\n",
       "      <td>0.002082</td>\n",
       "    </tr>\n",
       "    <tr>\n",
       "      <th>2</th>\n",
       "      <td>2016</td>\n",
       "      <td>76ers</td>\n",
       "      <td>2015-10-27</td>\n",
       "      <td>0.000871</td>\n",
       "    </tr>\n",
       "    <tr>\n",
       "      <th>3</th>\n",
       "      <td>2016</td>\n",
       "      <td>76ers</td>\n",
       "      <td>2015-12-01</td>\n",
       "      <td>0.000315</td>\n",
       "    </tr>\n",
       "    <tr>\n",
       "      <th>4</th>\n",
       "      <td>2016</td>\n",
       "      <td>76ers</td>\n",
       "      <td>2016-01-01</td>\n",
       "      <td>0.000080</td>\n",
       "    </tr>\n",
       "  </tbody>\n",
       "</table>\n",
       "</div>"
      ],
      "text/plain": [
       "   Year TeamName       Date      Odds\n",
       "0  2016    76ers 2015-06-17  0.003185\n",
       "1  2016    76ers 2015-08-01  0.002082\n",
       "2  2016    76ers 2015-10-27  0.000871\n",
       "3  2016    76ers 2015-12-01  0.000315\n",
       "4  2016    76ers 2016-01-01  0.000080"
      ]
     },
     "metadata": {},
     "output_type": "display_data"
    },
    {
     "name": "stdout",
     "output_type": "stream",
     "text": [
      "\n",
      "MoneyLine Table\n"
     ]
    },
    {
     "data": {
      "text/html": [
       "<div>\n",
       "<style scoped>\n",
       "    .dataframe tbody tr th:only-of-type {\n",
       "        vertical-align: middle;\n",
       "    }\n",
       "\n",
       "    .dataframe tbody tr th {\n",
       "        vertical-align: top;\n",
       "    }\n",
       "\n",
       "    .dataframe thead th {\n",
       "        text-align: right;\n",
       "    }\n",
       "</style>\n",
       "<table border=\"1\" class=\"dataframe\">\n",
       "  <thead>\n",
       "    <tr style=\"text-align: right;\">\n",
       "      <th></th>\n",
       "      <th>Year</th>\n",
       "      <th>TeamName</th>\n",
       "      <th>Date</th>\n",
       "      <th>MoneyLine</th>\n",
       "    </tr>\n",
       "  </thead>\n",
       "  <tbody>\n",
       "    <tr>\n",
       "      <th>0</th>\n",
       "      <td>2016</td>\n",
       "      <td>76ers</td>\n",
       "      <td>2015-06-17</td>\n",
       "      <td>25000.0</td>\n",
       "    </tr>\n",
       "    <tr>\n",
       "      <th>1</th>\n",
       "      <td>2016</td>\n",
       "      <td>76ers</td>\n",
       "      <td>2015-08-01</td>\n",
       "      <td>40000.0</td>\n",
       "    </tr>\n",
       "    <tr>\n",
       "      <th>2</th>\n",
       "      <td>2016</td>\n",
       "      <td>76ers</td>\n",
       "      <td>2015-10-27</td>\n",
       "      <td>100000.0</td>\n",
       "    </tr>\n",
       "    <tr>\n",
       "      <th>3</th>\n",
       "      <td>2016</td>\n",
       "      <td>76ers</td>\n",
       "      <td>2015-12-01</td>\n",
       "      <td>250000.0</td>\n",
       "    </tr>\n",
       "    <tr>\n",
       "      <th>4</th>\n",
       "      <td>2016</td>\n",
       "      <td>76ers</td>\n",
       "      <td>2016-01-01</td>\n",
       "      <td>999999.0</td>\n",
       "    </tr>\n",
       "  </tbody>\n",
       "</table>\n",
       "</div>"
      ],
      "text/plain": [
       "   Year TeamName       Date  MoneyLine\n",
       "0  2016    76ers 2015-06-17    25000.0\n",
       "1  2016    76ers 2015-08-01    40000.0\n",
       "2  2016    76ers 2015-10-27   100000.0\n",
       "3  2016    76ers 2015-12-01   250000.0\n",
       "4  2016    76ers 2016-01-01   999999.0"
      ]
     },
     "metadata": {},
     "output_type": "display_data"
    },
    {
     "name": "stdout",
     "output_type": "stream",
     "text": [
      "\n",
      "PowerRanking Table\n"
     ]
    },
    {
     "data": {
      "text/html": [
       "<div>\n",
       "<style scoped>\n",
       "    .dataframe tbody tr th:only-of-type {\n",
       "        vertical-align: middle;\n",
       "    }\n",
       "\n",
       "    .dataframe tbody tr th {\n",
       "        vertical-align: top;\n",
       "    }\n",
       "\n",
       "    .dataframe thead th {\n",
       "        text-align: right;\n",
       "    }\n",
       "</style>\n",
       "<table border=\"1\" class=\"dataframe\">\n",
       "  <thead>\n",
       "    <tr style=\"text-align: right;\">\n",
       "      <th></th>\n",
       "      <th>DataID</th>\n",
       "      <th>DataTypeID</th>\n",
       "      <th>SeasonID</th>\n",
       "      <th>TeamID</th>\n",
       "      <th>Date</th>\n",
       "      <th>Rank</th>\n",
       "      <th>Odds</th>\n",
       "      <th>Winner</th>\n",
       "    </tr>\n",
       "  </thead>\n",
       "  <tbody>\n",
       "    <tr>\n",
       "      <th>0</th>\n",
       "      <td>1</td>\n",
       "      <td>4</td>\n",
       "      <td>15</td>\n",
       "      <td>28</td>\n",
       "      <td>2005-03-14</td>\n",
       "      <td>1</td>\n",
       "      <td>0.2866</td>\n",
       "      <td>False</td>\n",
       "    </tr>\n",
       "    <tr>\n",
       "      <th>1</th>\n",
       "      <td>2</td>\n",
       "      <td>4</td>\n",
       "      <td>15</td>\n",
       "      <td>3</td>\n",
       "      <td>2005-03-14</td>\n",
       "      <td>2</td>\n",
       "      <td>0.2136</td>\n",
       "      <td>False</td>\n",
       "    </tr>\n",
       "    <tr>\n",
       "      <th>2</th>\n",
       "      <td>3</td>\n",
       "      <td>4</td>\n",
       "      <td>15</td>\n",
       "      <td>30</td>\n",
       "      <td>2005-03-14</td>\n",
       "      <td>3</td>\n",
       "      <td>0.1552</td>\n",
       "      <td>True</td>\n",
       "    </tr>\n",
       "    <tr>\n",
       "      <th>3</th>\n",
       "      <td>4</td>\n",
       "      <td>4</td>\n",
       "      <td>15</td>\n",
       "      <td>31</td>\n",
       "      <td>2005-03-14</td>\n",
       "      <td>4</td>\n",
       "      <td>0.1105</td>\n",
       "      <td>False</td>\n",
       "    </tr>\n",
       "    <tr>\n",
       "      <th>4</th>\n",
       "      <td>5</td>\n",
       "      <td>4</td>\n",
       "      <td>15</td>\n",
       "      <td>7</td>\n",
       "      <td>2005-03-14</td>\n",
       "      <td>5</td>\n",
       "      <td>0.0775</td>\n",
       "      <td>False</td>\n",
       "    </tr>\n",
       "  </tbody>\n",
       "</table>\n",
       "</div>"
      ],
      "text/plain": [
       "   DataID  DataTypeID  SeasonID TeamID        Date  Rank    Odds  Winner\n",
       "0       1           4        15     28  2005-03-14     1  0.2866   False\n",
       "1       2           4        15      3  2005-03-14     2  0.2136   False\n",
       "2       3           4        15     30  2005-03-14     3  0.1552    True\n",
       "3       4           4        15     31  2005-03-14     4  0.1105   False\n",
       "4       5           4        15      7  2005-03-14     5  0.0775   False"
      ]
     },
     "metadata": {},
     "output_type": "display_data"
    },
    {
     "name": "stdout",
     "output_type": "stream",
     "text": [
      "\n",
      "Champions Table\n"
     ]
    },
    {
     "data": {
      "text/html": [
       "<div>\n",
       "<style scoped>\n",
       "    .dataframe tbody tr th:only-of-type {\n",
       "        vertical-align: middle;\n",
       "    }\n",
       "\n",
       "    .dataframe tbody tr th {\n",
       "        vertical-align: top;\n",
       "    }\n",
       "\n",
       "    .dataframe thead th {\n",
       "        text-align: right;\n",
       "    }\n",
       "</style>\n",
       "<table border=\"1\" class=\"dataframe\">\n",
       "  <thead>\n",
       "    <tr style=\"text-align: right;\">\n",
       "      <th></th>\n",
       "      <th>Year</th>\n",
       "      <th>TeamName</th>\n",
       "    </tr>\n",
       "  </thead>\n",
       "  <tbody>\n",
       "    <tr>\n",
       "      <th>0</th>\n",
       "      <td>2005</td>\n",
       "      <td>Spurs</td>\n",
       "    </tr>\n",
       "    <tr>\n",
       "      <th>1</th>\n",
       "      <td>2006</td>\n",
       "      <td>Heat</td>\n",
       "    </tr>\n",
       "    <tr>\n",
       "      <th>2</th>\n",
       "      <td>2007</td>\n",
       "      <td>Spurs</td>\n",
       "    </tr>\n",
       "    <tr>\n",
       "      <th>3</th>\n",
       "      <td>2008</td>\n",
       "      <td>Celtics</td>\n",
       "    </tr>\n",
       "    <tr>\n",
       "      <th>4</th>\n",
       "      <td>2009</td>\n",
       "      <td>Lakers</td>\n",
       "    </tr>\n",
       "  </tbody>\n",
       "</table>\n",
       "</div>"
      ],
      "text/plain": [
       "   Year TeamName\n",
       "0  2005    Spurs\n",
       "1  2006     Heat\n",
       "2  2007    Spurs\n",
       "3  2008  Celtics\n",
       "4  2009   Lakers"
      ]
     },
     "metadata": {},
     "output_type": "display_data"
    },
    {
     "name": "stdout",
     "output_type": "stream",
     "text": [
      "\n",
      "BetSamples Table\n"
     ]
    },
    {
     "data": {
      "text/html": [
       "<div>\n",
       "<style scoped>\n",
       "    .dataframe tbody tr th:only-of-type {\n",
       "        vertical-align: middle;\n",
       "    }\n",
       "\n",
       "    .dataframe tbody tr th {\n",
       "        vertical-align: top;\n",
       "    }\n",
       "\n",
       "    .dataframe thead th {\n",
       "        text-align: right;\n",
       "    }\n",
       "</style>\n",
       "<table border=\"1\" class=\"dataframe\">\n",
       "  <thead>\n",
       "    <tr style=\"text-align: right;\">\n",
       "      <th></th>\n",
       "      <th>TeamName</th>\n",
       "      <th>Date</th>\n",
       "      <th>Payout</th>\n",
       "      <th>BetOdds</th>\n",
       "      <th>FiveThirtyEightOdds</th>\n",
       "      <th>RankOdds</th>\n",
       "    </tr>\n",
       "  </thead>\n",
       "  <tbody>\n",
       "    <tr>\n",
       "      <th>0</th>\n",
       "      <td>76ers</td>\n",
       "      <td>2015-10-28</td>\n",
       "      <td>-100.0</td>\n",
       "      <td>0.000871</td>\n",
       "      <td>0.0000</td>\n",
       "      <td>0.0000</td>\n",
       "    </tr>\n",
       "    <tr>\n",
       "      <th>1</th>\n",
       "      <td>Bucks</td>\n",
       "      <td>2015-10-28</td>\n",
       "      <td>-100.0</td>\n",
       "      <td>0.012637</td>\n",
       "      <td>0.0018</td>\n",
       "      <td>0.0000</td>\n",
       "    </tr>\n",
       "    <tr>\n",
       "      <th>2</th>\n",
       "      <td>Bulls</td>\n",
       "      <td>2015-10-28</td>\n",
       "      <td>-100.0</td>\n",
       "      <td>0.051293</td>\n",
       "      <td>0.0315</td>\n",
       "      <td>0.0000</td>\n",
       "    </tr>\n",
       "    <tr>\n",
       "      <th>3</th>\n",
       "      <td>Cavaliers</td>\n",
       "      <td>2015-10-28</td>\n",
       "      <td>280.0</td>\n",
       "      <td>0.229467</td>\n",
       "      <td>0.2506</td>\n",
       "      <td>0.2136</td>\n",
       "    </tr>\n",
       "    <tr>\n",
       "      <th>4</th>\n",
       "      <td>Celtics</td>\n",
       "      <td>2015-10-28</td>\n",
       "      <td>-100.0</td>\n",
       "      <td>0.005590</td>\n",
       "      <td>0.0309</td>\n",
       "      <td>0.0000</td>\n",
       "    </tr>\n",
       "  </tbody>\n",
       "</table>\n",
       "</div>"
      ],
      "text/plain": [
       "    TeamName       Date  Payout   BetOdds  FiveThirtyEightOdds  RankOdds\n",
       "0      76ers 2015-10-28  -100.0  0.000871               0.0000    0.0000\n",
       "1      Bucks 2015-10-28  -100.0  0.012637               0.0018    0.0000\n",
       "2      Bulls 2015-10-28  -100.0  0.051293               0.0315    0.0000\n",
       "3  Cavaliers 2015-10-28   280.0  0.229467               0.2506    0.2136\n",
       "4    Celtics 2015-10-28  -100.0  0.005590               0.0309    0.0000"
      ]
     },
     "metadata": {},
     "output_type": "display_data"
    }
   ],
   "source": [
    "print('\\nFiveThirtyEight Table')\n",
    "display(df_538.head())\n",
    "print('\\nNormalizedBetting Table')\n",
    "display(df_bet.head())\n",
    "print('\\nMoneyLine Table')\n",
    "display(df_betML.head())\n",
    "print('\\nPowerRanking Table')\n",
    "display(df_PR.head())\n",
    "print('\\nChampions Table')\n",
    "display(df_champs.head())\n",
    "print('\\nBetSamples Table')\n",
    "display(df_betSamples.head())"
   ]
  },
  {
   "cell_type": "markdown",
   "metadata": {
    "extensions": {
     "jupyter_dashboards": {
      "version": 1,
      "views": {
       "grid_default": {},
       "report_default": {
        "hidden": false
       }
      }
     }
    }
   },
   "source": [
    "# Analysis Details (HOW)"
   ]
  },
  {
   "cell_type": "markdown",
   "metadata": {
    "extensions": {
     "jupyter_dashboards": {
      "version": 1,
      "views": {
       "grid_default": {},
       "report_default": {
        "hidden": false
       }
      }
     }
    }
   },
   "source": [
    "## Problems with Power Ranking Data (Brendan, Evan)"
   ]
  },
  {
   "cell_type": "code",
   "execution_count": 5,
   "metadata": {
    "extensions": {
     "jupyter_dashboards": {
      "version": 1,
      "views": {
       "grid_default": {},
       "report_default": {
        "hidden": false
       }
      }
     }
    }
   },
   "outputs": [
    {
     "data": {
      "application/vnd.jupyter.widget-view+json": {
       "model_id": "2b04ce1de6f44b2db79bac15c4e454ef",
       "version_major": 2,
       "version_minor": 0
      },
      "text/plain": [
       "interactive(children=(Dropdown(description='team', options=('76ers', 'Bucks', 'Bulls', 'Cavaliers', 'Celtics',…"
      ]
     },
     "metadata": {},
     "output_type": "display_data"
    }
   ],
   "source": [
    "teamFrames = [df_bet.TeamName, df_538.TeamName, df_PR.TeamName]\n",
    "teams = pd.concat(teamFrames).unique()\n",
    "\n",
    "@interact(team = teams, year = ['2016','2017','2018','2019'])\n",
    "def plotYear(team, year):\n",
    "    ii = df_champs[df_champs.Year == int(year)].index[0]\n",
    "    \n",
    "    df_team_538 = df_538[(df_538.Year == int(year)) & (df_538.TeamName == team)]\n",
    "    df_team_bet = df_bet[(df_bet.Year == int(year)) & (df_bet.TeamName == team)]    \n",
    "    df_team_PR = df_PR[(df_PR.Year == int(year)) & (df_PR.TeamName == team)]\n",
    "    \n",
    "    ax = df_team_bet.sort_values('Date').plot(x=\"Date\", y=\"Odds\", title=str(df_champs.iloc[ii,0]-1)+'-'+str(df_champs.iloc[ii,0]) + ' ' + team)\n",
    "    df_team_538.sort_values('Date').plot(x=\"Date\", y=\"Odds\", ax=ax, title=str(df_champs.iloc[ii,0]-1)+'-'+str(df_champs.iloc[ii,0]) + ' ' + team)\n",
    "    try:\n",
    "        df_team_PR.sort_values('Date').plot(x=\"Date\", y=\"Rank\", ax=ax, secondary_y = True, mark_right = False, title=str(df_champs.iloc[ii,0]-1)+'-'+str(df_champs.iloc[ii,0]) + ' ' + team)\n",
    "        ax.right_ax.set_ylabel('Rank')\n",
    "        ax.right_ax.set_ylim(10, 0.75)\n",
    "        ax.right_ax.legend(['Power Rank'], bbox_to_anchor=(1.05,0.8), loc='upper left')\n",
    "    except:\n",
    "        print('The '+team+' were never ranked throughout the '+str(int(year)-1)+'-'+year+' season.')\n",
    "    ax.set_ylabel('Odds')\n",
    "    ax.legend(['Betting Odds', 'FiveThirtyEight Odds'], bbox_to_anchor=(1.05,1), loc='upper left')"
   ]
  },
  {
   "cell_type": "code",
   "execution_count": 7,
   "metadata": {
    "extensions": {
     "jupyter_dashboards": {
      "version": 1,
      "views": {
       "grid_default": {},
       "report_default": {
        "hidden": false
       }
      }
     }
    }
   },
   "outputs": [
    {
     "data": {
      "application/vnd.jupyter.widget-view+json": {
       "model_id": "80946b15cad24f01856f3f89edcaaebc",
       "version_major": 2,
       "version_minor": 0
      },
      "text/plain": [
       "interactive(children=(Dropdown(description='team', options=('76ers', 'Bucks', 'Bulls', 'Cavaliers', 'Celtics',…"
      ]
     },
     "metadata": {},
     "output_type": "display_data"
    }
   ],
   "source": [
    "teamFrames = [df_betSamples.TeamName]\n",
    "teams = pd.concat(teamFrames).unique()\n",
    "@interact(team = teams)\n",
    "def plotPayout(team):\n",
    "    df_champion_betSamples = df_betSamples[(df_betSamples.TeamName == team)].sort_values('Date')\n",
    "    \n",
    "    ax = df_champion_betSamples.plot(x=\"Date\", y=['Payout'])\n",
    "    df_champion_betSamples.plot(x=\"Date\",y=['BetOdds','FiveThirtyEightOdds',], ax=ax, secondary_y = True, mark_right = True, title=\"2015-2019 \" + team)\n",
    "    ax.right_ax.set_ylabel('Odds')\n",
    "    ax.right_ax.legend(['Betting Odds', 'FiveThirtyEight Odds'], bbox_to_anchor=(1.1,1), loc='upper left')\n",
    "    ax.set_ylabel('Payout')\n",
    "    ax.legend(['Bet Payout'], bbox_to_anchor=(1.1,0.8), loc='upper left')"
   ]
  },
  {
   "cell_type": "markdown",
   "metadata": {
    "extensions": {
     "jupyter_dashboards": {
      "version": 1,
      "views": {
       "grid_default": {},
       "report_default": {
        "hidden": false
       }
      }
     }
    }
   },
   "source": [
    "## Logistic Regression to Convert Rank -> Odds (Brendan) \n",
    "Because the original power ranking values were on a scale of 1-10, it was difficult to compare the predictive accuracy of the power rankings compared to the betting odds and the FiveThirtyEight model odds. Therefore, we wanted to convert the power rankings to a probality of winning the championship. We did this by collecting power ranking data from as far backas 2005, then we divided the data into a training set (before 2016) and a test set (2016-2019). We then determined the probablity of winning the championship given they had a certain rank by dividing the total amount of times a specific ranking was given by the total number of times the team with that ranking ended up winning the championship. Next we did linear discriminant analysis in order to get odds that were more generalizable, since the original\\odds were likely overfit to the training data. "
   ]
  },
  {
   "cell_type": "code",
   "execution_count": 65,
   "metadata": {
    "extensions": {
     "jupyter_dashboards": {
      "version": 1,
      "views": {
       "grid_default": {},
       "report_default": {
        "hidden": false
       }
      }
     }
    }
   },
   "outputs": [
    {
     "data": {
      "image/png": "[encoded data removed]",
      "text/plain": [
       "<Figure size 432x288 with 1 Axes>"
      ]
     },
     "metadata": {
      "needs_background": "light"
     },
     "output_type": "display_data"
    }
   ],
   "source": [
    "# Logistic regression to get odds for Power Rankings \n",
    "from sklearn.linear_model import LogisticRegression\n",
    "# Create a binary response variable indicating whether a team wins the \n",
    "# Championship at the end of the year for each week\n",
    "df_PR = pd.read_sql_query(\"Select * From PowerRanking\", conn)\n",
    "df_Season = pd.read_sql_query(\"Select * From Season\", conn)\n",
    "win_or_lose = []\n",
    "for i, row in df_PR.iterrows():\n",
    "    is_champ = False \n",
    "    for j, season in df_Season.iterrows():\n",
    "        if row['SeasonID']==season['SeasonID'] and int(row['TeamID'])==season['ChampionID']:\n",
    "            is_champ = True\n",
    "    if is_champ: \n",
    "        win_or_lose.append(True)\n",
    "    else:\n",
    "        win_or_lose.append(False)\n",
    "\n",
    "df_PR['Winner'] = win_or_lose\n",
    "# Will use data prior to 2016 to create model \n",
    "X_train = df_PR[df_PR['SeasonID'] > 4][['Rank']]\n",
    "y_train = df_PR[df_PR['SeasonID'] > 4]['Winner']\n",
    "X_test = df_PR[df_PR['SeasonID'] <= 4][['Rank']]\n",
    "y_test = df_PR[df_PR['SeasonID'] <= 4]['Winner']\n",
    "\n",
    "model = LogisticRegression()\n",
    "model.fit(X_train,y_train)\n",
    "probs = model.predict_proba(X_test)\n",
    "odds = probs[:,1]\n",
    "\n",
    "odds = list(set(odds))\n",
    "odds.sort(reverse=True)\n",
    "        \n",
    "reg_odds = []\n",
    "for rank in range(1,11):\n",
    "    total = 0\n",
    "    champs = 0\n",
    "    for i, row in df_PR[df_PR.SeasonID>4].iterrows():\n",
    "        if row['Rank'] == rank:\n",
    "            total += 1\n",
    "            for k, row1 in df_Season.iterrows():        \n",
    "                if row['SeasonID'] == row1['SeasonID'] and int(row['TeamID']) == row1['ChampionID']:\n",
    "                    champs += 1\n",
    "    reg_odds.append(champs/total)  \n",
    "\n",
    "odds_col = df_PR['Odds'].unique()\n",
    "plt.plot(y,odds_col,c ='b',label = 'LDA')\n",
    "plt.scatter(y,reg_odds,c='r',label = 'Raw')\n",
    "plt.title('Probability of Winning Champion by Power Ranking')\n",
    "plt.xlabel('Power Ranking')\n",
    "plt.ylabel('Odds')\n",
    "plt.legend()\n",
    "plt.show()"
   ]
  },
  {
   "cell_type": "code",
   "execution_count": 68,
   "metadata": {
    "extensions": {
     "jupyter_dashboards": {
      "version": 1,
      "views": {
       "grid_default": {},
       "report_default": {
        "hidden": true
       }
      }
     }
    }
   },
   "outputs": [],
   "source": [
    "#Resetting PowerRanking Table\n",
    "sql_statement = \"\"\"\n",
    "        SELECT \n",
    "        Year,\n",
    "        TeamName, \n",
    "        Date, Rank, Odds\n",
    "        FROM PowerRanking\n",
    "        INNER JOIN Season ON PowerRanking.SeasonID = Season.SeasonID\n",
    "        INNER JOIN Team ON PowerRanking.TeamID = Team.TeamID\n",
    "        INNER JOIN DataType ON PowerRanking.DataTypeID = DataType.DataTypeID\n",
    "        ORDER BY Year, TeamName, Date ASC\n",
    "        ;\"\"\"\n",
    "df_PR = pd.read_sql_query(sql_statement, conn, parse_dates={'Date': {'format': '%Y-%m-%d'}})"
   ]
  },
  {
   "cell_type": "code",
   "execution_count": 74,
   "metadata": {
    "extensions": {
     "jupyter_dashboards": {
      "version": 1,
      "views": {
       "grid_default": {},
       "report_default": {
        "hidden": false
       }
      }
     }
    }
   },
   "outputs": [
    {
     "data": {
      "text/html": [
       "<div>\n",
       "<style scoped>\n",
       "    .dataframe tbody tr th:only-of-type {\n",
       "        vertical-align: middle;\n",
       "    }\n",
       "\n",
       "    .dataframe tbody tr th {\n",
       "        vertical-align: top;\n",
       "    }\n",
       "\n",
       "    .dataframe thead th {\n",
       "        text-align: right;\n",
       "    }\n",
       "</style>\n",
       "<table border=\"1\" class=\"dataframe\">\n",
       "  <thead>\n",
       "    <tr style=\"text-align: right;\">\n",
       "      <th></th>\n",
       "      <th>DataID</th>\n",
       "      <th>DataTypeID</th>\n",
       "      <th>TeamID</th>\n",
       "      <th>Date</th>\n",
       "      <th>Payout</th>\n",
       "      <th>BetOdds</th>\n",
       "      <th>FiveThirtyEightOdds</th>\n",
       "      <th>RankOdds</th>\n",
       "    </tr>\n",
       "  </thead>\n",
       "  <tbody>\n",
       "    <tr>\n",
       "      <th>0</th>\n",
       "      <td>1</td>\n",
       "      <td>5</td>\n",
       "      <td>22</td>\n",
       "      <td>2015-10-28</td>\n",
       "      <td>-100.0</td>\n",
       "      <td>0.000871</td>\n",
       "      <td>0.0000</td>\n",
       "      <td>0.0000</td>\n",
       "    </tr>\n",
       "    <tr>\n",
       "      <th>1</th>\n",
       "      <td>2</td>\n",
       "      <td>5</td>\n",
       "      <td>1</td>\n",
       "      <td>2015-10-28</td>\n",
       "      <td>-100.0</td>\n",
       "      <td>0.012637</td>\n",
       "      <td>0.0018</td>\n",
       "      <td>0.0000</td>\n",
       "    </tr>\n",
       "    <tr>\n",
       "      <th>2</th>\n",
       "      <td>3</td>\n",
       "      <td>5</td>\n",
       "      <td>15</td>\n",
       "      <td>2015-10-28</td>\n",
       "      <td>-100.0</td>\n",
       "      <td>0.051293</td>\n",
       "      <td>0.0315</td>\n",
       "      <td>0.0000</td>\n",
       "    </tr>\n",
       "    <tr>\n",
       "      <th>3</th>\n",
       "      <td>4</td>\n",
       "      <td>5</td>\n",
       "      <td>19</td>\n",
       "      <td>2015-10-28</td>\n",
       "      <td>280.0</td>\n",
       "      <td>0.229467</td>\n",
       "      <td>0.2506</td>\n",
       "      <td>0.2136</td>\n",
       "    </tr>\n",
       "    <tr>\n",
       "      <th>4</th>\n",
       "      <td>5</td>\n",
       "      <td>5</td>\n",
       "      <td>6</td>\n",
       "      <td>2015-10-28</td>\n",
       "      <td>-100.0</td>\n",
       "      <td>0.005590</td>\n",
       "      <td>0.0309</td>\n",
       "      <td>0.0000</td>\n",
       "    </tr>\n",
       "    <tr>\n",
       "      <th>...</th>\n",
       "      <td>...</td>\n",
       "      <td>...</td>\n",
       "      <td>...</td>\n",
       "      <td>...</td>\n",
       "      <td>...</td>\n",
       "      <td>...</td>\n",
       "      <td>...</td>\n",
       "      <td>...</td>\n",
       "    </tr>\n",
       "    <tr>\n",
       "      <th>26515</th>\n",
       "      <td>26516</td>\n",
       "      <td>5</td>\n",
       "      <td>13</td>\n",
       "      <td>2019-06-13</td>\n",
       "      <td>-100.0</td>\n",
       "      <td>0.000000</td>\n",
       "      <td>0.0000</td>\n",
       "      <td>0.0000</td>\n",
       "    </tr>\n",
       "    <tr>\n",
       "      <th>26516</th>\n",
       "      <td>26517</td>\n",
       "      <td>5</td>\n",
       "      <td>2</td>\n",
       "      <td>2019-06-13</td>\n",
       "      <td>-100.0</td>\n",
       "      <td>0.000000</td>\n",
       "      <td>0.0000</td>\n",
       "      <td>0.0000</td>\n",
       "    </tr>\n",
       "    <tr>\n",
       "      <th>26517</th>\n",
       "      <td>26518</td>\n",
       "      <td>5</td>\n",
       "      <td>12</td>\n",
       "      <td>2019-06-13</td>\n",
       "      <td>-100.0</td>\n",
       "      <td>0.000000</td>\n",
       "      <td>0.0000</td>\n",
       "      <td>0.0253</td>\n",
       "    </tr>\n",
       "    <tr>\n",
       "      <th>26518</th>\n",
       "      <td>26519</td>\n",
       "      <td>5</td>\n",
       "      <td>18</td>\n",
       "      <td>2019-06-13</td>\n",
       "      <td>-100.0</td>\n",
       "      <td>0.706582</td>\n",
       "      <td>0.0000</td>\n",
       "      <td>0.2136</td>\n",
       "    </tr>\n",
       "    <tr>\n",
       "      <th>26519</th>\n",
       "      <td>26520</td>\n",
       "      <td>5</td>\n",
       "      <td>4</td>\n",
       "      <td>2019-06-13</td>\n",
       "      <td>-100.0</td>\n",
       "      <td>0.000000</td>\n",
       "      <td>0.0000</td>\n",
       "      <td>0.0000</td>\n",
       "    </tr>\n",
       "  </tbody>\n",
       "</table>\n",
       "<p>26520 rows × 8 columns</p>\n",
       "</div>"
      ],
      "text/plain": [
       "       DataID  DataTypeID  TeamID       Date  Payout   BetOdds  \\\n",
       "0           1           5      22 2015-10-28  -100.0  0.000871   \n",
       "1           2           5       1 2015-10-28  -100.0  0.012637   \n",
       "2           3           5      15 2015-10-28  -100.0  0.051293   \n",
       "3           4           5      19 2015-10-28   280.0  0.229467   \n",
       "4           5           5       6 2015-10-28  -100.0  0.005590   \n",
       "...       ...         ...     ...        ...     ...       ...   \n",
       "26515   26516           5      13 2019-06-13  -100.0  0.000000   \n",
       "26516   26517           5       2 2019-06-13  -100.0  0.000000   \n",
       "26517   26518           5      12 2019-06-13  -100.0  0.000000   \n",
       "26518   26519           5      18 2019-06-13  -100.0  0.706582   \n",
       "26519   26520           5       4 2019-06-13  -100.0  0.000000   \n",
       "\n",
       "       FiveThirtyEightOdds  RankOdds  \n",
       "0                   0.0000    0.0000  \n",
       "1                   0.0018    0.0000  \n",
       "2                   0.0315    0.0000  \n",
       "3                   0.2506    0.2136  \n",
       "4                   0.0309    0.0000  \n",
       "...                    ...       ...  \n",
       "26515               0.0000    0.0000  \n",
       "26516               0.0000    0.0000  \n",
       "26517               0.0000    0.0253  \n",
       "26518               0.0000    0.2136  \n",
       "26519               0.0000    0.0000  \n",
       "\n",
       "[26520 rows x 8 columns]"
      ]
     },
     "metadata": {},
     "output_type": "display_data"
    }
   ],
   "source": [
    "df_bets = pd.read_sql_query(\"select * from betsamples\", conn, parse_dates={'Date': {'format': '%Y-%m-%d'}})\n",
    "display(df_bets)"
   ]
  },
  {
   "cell_type": "markdown",
   "metadata": {
    "extensions": {
     "jupyter_dashboards": {
      "version": 1,
      "views": {
       "grid_default": {},
       "report_default": {
        "hidden": false
       }
      }
     }
    }
   },
   "source": [
    "## Plots with All Data Overlaid - Including Rank-Odds (Brendan)"
   ]
  },
  {
   "cell_type": "code",
   "execution_count": 75,
   "metadata": {
    "extensions": {
     "jupyter_dashboards": {
      "version": 1,
      "views": {
       "grid_default": {},
       "report_default": {
        "hidden": false
       }
      }
     }
    }
   },
   "outputs": [
    {
     "data": {
      "application/vnd.jupyter.widget-view+json": {
       "model_id": "2cc23a607f114ba58ee95254beb1b61b",
       "version_major": 2,
       "version_minor": 0
      },
      "text/plain": [
       "interactive(children=(Dropdown(description='team', options=('76ers', 'Bucks', 'Bulls', 'Cavaliers', 'Celtics',…"
      ]
     },
     "metadata": {},
     "output_type": "display_data"
    }
   ],
   "source": [
    "\n",
    "teamFrames = [df_bet.TeamName, df_538.TeamName, df_PR.TeamName]\n",
    "teams = pd.concat(teamFrames).unique()\n",
    "\n",
    "@interact(team = teams, year = ['2016','2017','2018','2019'])\n",
    "def plotYear(team, year):\n",
    "    ii = df_champs[df_champs.Year == int(year)].index[0]\n",
    "    \n",
    "    df_team_538 = df_538[(df_538.Year == int(year)) & (df_538.TeamName == team)]\n",
    "    df_team_bet = df_bet[(df_bet.Year == int(year)) & (df_bet.TeamName == team)]    \n",
    "    df_team_PR = df_PR[(df_PR.Year == int(year)) & (df_PR.TeamName == team)]\n",
    "    \n",
    "    ax = df_team_bet.sort_values('Date').plot(x=\"Date\", y=\"Odds\", title=str(df_champs.iloc[ii,0]-1)+'-'+str(df_champs.iloc[ii,0]) + ' ' + team)\n",
    "    df_team_538.sort_values('Date').plot(x=\"Date\", y=\"Odds\", ax=ax, title=str(df_champs.iloc[ii,0]-1)+'-'+str(df_champs.iloc[ii,0]) + ' ' + team)\n",
    "    try:\n",
    "        df_team_PR.sort_values('Date').plot(x=\"Date\", y=\"Odds\", ax=ax, title=str(df_champs.iloc[ii,0]-1)+'-'+str(df_champs.iloc[ii,0]) + ' ' + team)\n",
    "        ax.right_ax.set_ylabel('Rank')\n",
    "        ax.right_ax.set_ylim(10, 0.75)\n",
    "        ax.right_ax.legend(['Power Rank'], bbox_to_anchor=(1.05,0.8), loc='upper left')\n",
    "    except:\n",
    "        print('The '+team+' were never ranked throughout the '+str(int(year)-1)+'-'+year+' season.')\n",
    "    ax.set_ylabel('Odds')\n",
    "    ax.legend(['Betting Odds', 'FiveThirtyEight Odds','Power Ranking Odds'], bbox_to_anchor=(1.05,1), loc='upper left')"
   ]
  },
  {
   "cell_type": "code",
   "execution_count": 81,
   "metadata": {
    "extensions": {
     "jupyter_dashboards": {
      "version": 1,
      "views": {
       "grid_default": {},
       "report_default": {
        "hidden": false
       }
      }
     }
    }
   },
   "outputs": [
    {
     "data": {
      "application/vnd.jupyter.widget-view+json": {
       "model_id": "22a5ce73cbee4c8898cc217c48c73fa5",
       "version_major": 2,
       "version_minor": 0
      },
      "text/plain": [
       "interactive(children=(Dropdown(description='team', options=('76ers', 'Bucks', 'Bulls', 'Cavaliers', 'Celtics',…"
      ]
     },
     "metadata": {},
     "output_type": "display_data"
    }
   ],
   "source": [
    "teamFrames = [df_betSamples.TeamName]\n",
    "teams = pd.concat(teamFrames).unique()\n",
    "@interact(team = teams)\n",
    "def plotPayout(team):\n",
    "    df_champion_betSamples = df_betSamples[(df_betSamples.TeamName == team)].sort_values('Date')\n",
    "    \n",
    "    ax = df_champion_betSamples.plot(x=\"Date\", y=['Payout'])\n",
    "    df_champion_betSamples.plot(x=\"Date\",y=['BetOdds','FiveThirtyEightOdds','RankOdds'], ax=ax, secondary_y = True, mark_right = True, title=\"2015-2019 \" + team)\n",
    "    \n",
    "    ax.right_ax.set_ylabel('Odds')\n",
    "    ax.right_ax.legend(['Betting Odds', 'FiveThirtyEight Odds','RankOdds'], bbox_to_anchor=(1.1,1), loc='upper left')\n",
    "    ax.set_ylabel('Payout')\n",
    "    ax.legend(['Bet Payout'], bbox_to_anchor=(1.1,0.7), loc='upper left')"
   ]
  },
  {
   "cell_type": "markdown",
   "metadata": {
    "extensions": {
     "jupyter_dashboards": {
      "version": 1,
      "views": {
       "grid_default": {},
       "report_default": {
        "hidden": false
       }
      }
     }
    }
   },
   "source": [
    "## Cross Correlation (Clayton)"
   ]
  },
  {
   "cell_type": "markdown",
   "metadata": {
    "extensions": {
     "jupyter_dashboards": {
      "version": 1,
      "views": {
       "grid_default": {},
       "report_default": {
        "hidden": false
       }
      }
     }
    }
   },
   "source": [
    "## Singular Spectrum Analysis (Clayton)"
   ]
  },
  {
   "cell_type": "markdown",
   "metadata": {
    "extensions": {
     "jupyter_dashboards": {
      "version": 1,
      "views": {
       "grid_default": {},
       "report_default": {
        "hidden": false
       }
      }
     }
    }
   },
   "source": [
    "## Random Forest - Bet Payout Prediction (Evan)"
   ]
  },
  {
   "cell_type": "markdown",
   "metadata": {
    "extensions": {
     "jupyter_dashboards": {
      "version": 1,
      "views": {
       "grid_default": {},
       "report_default": {
        "hidden": false
       }
      }
     }
    }
   },
   "source": [
    "### Model Explanation\n",
    "\n",
    "The Random Forest method was applied, using all three odds as predictors (Betting Markets, FiveThirtyEight, and Power Rankings) with the response variable of Bet Payout.\n",
    "\n",
    "A test/training split was applied using a selected split date. In addition to this split, bootstrapping is used within the training set."
   ]
  },
  {
   "cell_type": "markdown",
   "metadata": {
    "extensions": {
     "jupyter_dashboards": {
      "version": 1,
      "views": {
       "grid_default": {},
       "report_default": {
        "hidden": false
       }
      }
     }
    }
   },
   "source": [
    "### Model Fit Using Date Test/Train Split"
   ]
  },
  {
   "cell_type": "code",
   "execution_count": 38,
   "metadata": {
    "extensions": {
     "jupyter_dashboards": {
      "version": 1,
      "views": {
       "grid_default": {},
       "report_default": {
        "hidden": false
       }
      }
     }
    }
   },
   "outputs": [
    {
     "data": {
      "application/vnd.jupyter.widget-view+json": {
       "model_id": "3a0c42a538294c30a6ac24fd689b245c",
       "version_major": 2,
       "version_minor": 0
      },
      "text/plain": [
       "interactive(children=(Dropdown(description='split_date', options=('2016-07-15', '2017-07-15', '2018-07-15'), v…"
      ]
     },
     "metadata": {},
     "output_type": "display_data"
    }
   ],
   "source": [
    "@interact(split_date = ['2016-07-15','2017-07-15','2018-07-15'])\n",
    "def RandomForestPrediction(split_date):\n",
    "\n",
    "    # Set date split for train/test\n",
    "    # splitDate = np.datetime64('2017-07-15')\n",
    "    global splitDate\n",
    "    splitDate = np.datetime64(split_date)\n",
    "\n",
    "    # 'BetOdds', 'FiveThirtyEightOdds'\n",
    "    # 'FiveThirtyEightOdds', 'BetOdds\n",
    "\n",
    "    # Can't include Rank because of NaN values\n",
    "    X = df_betSamples[['Date', 'BetOdds', 'FiveThirtyEightOdds', 'RankOdds']]\n",
    "    y = df_betSamples[['Date', 'Payout']]\n",
    "    X_train = X[X.Date.to_numpy() < splitDate][['BetOdds', 'FiveThirtyEightOdds', 'RankOdds']]\n",
    "    X_test = X[X.Date.to_numpy() > splitDate][['BetOdds', 'FiveThirtyEightOdds', 'RankOdds']]\n",
    "    y_train = y[y.Date.to_numpy() < splitDate][['Payout']].values.ravel()\n",
    "    y_test = y[y.Date.to_numpy() > splitDate][['Payout']].values.ravel()\n",
    "\n",
    "    rf = RandomForestRegressor(n_estimators=1000, bootstrap=True, oob_score = True)\n",
    "    rf.fit(X_train,y_train)\n",
    "\n",
    "    y_pred = rf.predict(X_test)\n",
    "    errors = abs(y_pred - y_test)\n",
    "    print('Mean Absolute Error (MAE): $', round(np.mean(errors), 2), '.')\n",
    "    # Mean Absolute Percentage Error\n",
    "    mape = abs(100 * (errors / y_test))\n",
    "    accuracy = 100 - np.mean(mape)\n",
    "    print('Mean Absolute Percentage Error (MAPE):', round(np.mean(mape), 2), '%.')\n",
    "    print('Accuracy:', round(accuracy, 2), '%.\\n')\n",
    "\n",
    "    # Out of Bag calculations\n",
    "    print('Out-of-Bag Percentage Error Estimate:', round(100 * (1-rf.oob_score_), 2), '%.\\n')\n",
    "\n",
    "    # get importance\n",
    "    importance = rf.feature_importances_\n",
    "    # summarize feature importance\n",
    "    print('Feature Importance')\n",
    "    # print(importance)\n",
    "    features = ['BetOdds', 'FiveThirtyEightOdds', 'RankOdds']\n",
    "    for i,v in enumerate(importance):\n",
    "        print('Feature: %s, Score: %.5f' % (features[i],v))"
   ]
  },
  {
   "cell_type": "markdown",
   "metadata": {
    "extensions": {
     "jupyter_dashboards": {
      "version": 1,
      "views": {
       "grid_default": {},
       "report_default": {
        "hidden": false
       }
      }
     }
    }
   },
   "source": [
    "### Viewing Predictions\n",
    "\n",
    "76ers  -  A team that always had a bet payout of -100 USD and the model always predicted a bet payout of -100 USD\n",
    "\n",
    "Cavaliers  -  A team where the model trained with a championship win and in testing had one erroneous bump but correctly predicted the following -100 USD payout period for two seasons\n",
    "\n",
    "Raptors  -  A team where the model training never saw a championship win and in testing never predicted a win, despite the eventual win\n",
    "\n",
    "Warriors  -  A team where the model training saw a championship win and in testing was not able to consistenly predict a champinship win or loss. It is able to predict payouts > 100 USD accurately."
   ]
  },
  {
   "cell_type": "code",
   "execution_count": 39,
   "metadata": {
    "extensions": {
     "jupyter_dashboards": {
      "version": 1,
      "views": {
       "grid_default": {},
       "report_default": {
        "hidden": false
       }
      }
     }
    }
   },
   "outputs": [
    {
     "data": {
      "application/vnd.jupyter.widget-view+json": {
       "model_id": "52bb89097a1e4cdba2d73ea74b41d312",
       "version_major": 2,
       "version_minor": 0
      },
      "text/plain": [
       "interactive(children=(Dropdown(description='team', options=('76ers', 'Bucks', 'Bulls', 'Cavaliers', 'Celtics',…"
      ]
     },
     "metadata": {},
     "output_type": "display_data"
    },
    {
     "name": "stdout",
     "output_type": "stream",
     "text": [
      "Training data on left, Testing data on right\n"
     ]
    }
   ],
   "source": [
    "global splitDate\n",
    "@interact(team = teams)\n",
    "def plotRandomForestPrediction(team):\n",
    "    df_team_betSamples = df_betSamples[(df_betSamples.TeamName == team)].sort_values('Date')\n",
    "    pred_payout = rf.predict(df_team_betSamples[['BetOdds','FiveThirtyEightOdds','RankOdds']])\n",
    "    df_pred = pd.DataFrame()\n",
    "    df_pred['Date'] = df_team_betSamples.Date\n",
    "    df_pred['ActualPayout'] = df_team_betSamples.Payout\n",
    "    df_pred['PredictedPayout'] = pred_payout\n",
    "    \n",
    "    ax = df_pred.plot(x=\"Date\", y=['ActualPayout','PredictedPayout'], title=\"2015-2019 \" + team)\n",
    "    ax.axvline(splitDate, color='k', linestyle='--')\n",
    "    ax.set_ylim(-125, 500)\n",
    "    ax.set_ylabel('Payout')\n",
    "    ax.legend(['Actual Bet Payout', 'Predicted Bet Payout'], bbox_to_anchor=(1.05,1), loc='upper left')\n",
    "\n",
    "print(\"Training data on left, Testing data on right\")    "
   ]
  },
  {
   "cell_type": "markdown",
   "metadata": {
    "extensions": {
     "jupyter_dashboards": {
      "version": 1,
      "views": {
       "grid_default": {},
       "report_default": {
        "hidden": false
       }
      }
     }
    }
   },
   "source": [
    "#### If you bet everytime the predicted payout is above 100 USD, how much would you profit/lose? (In the test region, of course)"
   ]
  },
  {
   "cell_type": "code",
   "execution_count": 59,
   "metadata": {
    "extensions": {
     "jupyter_dashboards": {
      "version": 1,
      "views": {
       "grid_default": {},
       "report_default": {
        "hidden": false
       }
      }
     }
    }
   },
   "outputs": [
    {
     "data": {
      "application/vnd.jupyter.widget-view+json": {
       "model_id": "43c2762c1b814b2eae280861a19274b1",
       "version_major": 2,
       "version_minor": 0
      },
      "text/plain": [
       "interactive(children=(IntSlider(value=0, description='Threshold', max=474, min=-100, step=10), Output()), _dom…"
      ]
     },
     "metadata": {},
     "output_type": "display_data"
    }
   ],
   "source": [
    "def calcProfit(Threshold):\n",
    "    df_test = pd.DataFrame()\n",
    "    df_test['PredictedPayout'] = rf.predict(X_test[['BetOdds','FiveThirtyEightOdds','RankOdds']])\n",
    "    df_test['ActualPayout'] = y_test\n",
    "    df_test['Payout'] = np.where(df_test.PredictedPayout >= Threshold, df_test.ActualPayout, 0)\n",
    "\n",
    "    bets = df_test[df_test.Payout != 0].Payout\n",
    "    print(\"Making bets if prediction is above $ \" + str(Threshold) + \" .\")\n",
    "    print(\"You would have made \" + str(bets.count()) + \" $\" + str(100) + \" bets.\")\n",
    "    print(\"You would have profited $\" + str(round(bets.sum(), 2)) + \".\")\n",
    "    print(\"That's an average profit of $\" + str(round(bets.sum()/bets.count(), 2)) + \" per $\" + str(100) + \" bet!\")\n",
    "interact(calcProfit, Threshold = widgets.IntSlider(min=-100, max=int(max(df_test.PredictedPayout)), step=10));"
   ]
  },
  {
   "cell_type": "markdown",
   "metadata": {
    "extensions": {
     "jupyter_dashboards": {
      "version": 1,
      "views": {
       "grid_default": {},
       "report_default": {
        "hidden": false
       }
      }
     }
    }
   },
   "source": [
    "#### Model Fit using Random Test/Train Split"
   ]
  },
  {
   "cell_type": "code",
   "execution_count": null,
   "metadata": {
    "extensions": {
     "jupyter_dashboards": {
      "version": 1,
      "views": {
       "grid_default": {},
       "report_default": {
        "hidden": false
       }
      }
     }
    }
   },
   "outputs": [],
   "source": [
    "# Can't include Rank because of NaN values\n",
    "X = df_betSamples[['Date', 'TeamName', 'BetOdds', 'FiveThirtyEightOdds', 'RankOdds']]\n",
    "y = df_betSamples[['Date', 'TeamName', 'Payout', 'RankOdds']]\n",
    "X_train,X_test,y_train,y_test = train_test_split(X,y,test_size=0.25,random_state=0)\n",
    "\n",
    "rf = RandomForestRegressor(n_estimators=1000, bootstrap=True, oob_score = True)\n",
    "rf.fit(X_train[['BetOdds', 'FiveThirtyEightOdds', 'RankOdds']], y_train[['Payout']].values.ravel())\n",
    "\n",
    "y_pred = rf.predict(X_test[['BetOdds', 'FiveThirtyEightOdds', 'RankOdds']])\n",
    "errors = abs(y_pred - y_test[['Payout']].values.ravel())\n",
    "print('Mean Absolute Error (MAE): $', round(np.mean(errors), 2), '.')\n",
    "# Mean Absolute Percentage Error\n",
    "mape = abs(100 * (errors / y_test[['Payout']].values.ravel()))\n",
    "accuracy = 100 - np.mean(mape)\n",
    "print('Mean Absolute Percentage Error (MAPE):', round(np.mean(mape), 2), '%.')\n",
    "print('Accuracy:', round(accuracy, 2), '%.\\n')\n",
    "\n",
    "# Out of Bag calculations\n",
    "print('Out-of-Bag Error Estimate:', round(100 * (1-rf.oob_score_), 2), '%.\\n')\n",
    "\n",
    "# get importance\n",
    "importance = rf.feature_importances_\n",
    "# summarize feature importance\n",
    "print('Feature Importance')\n",
    "# print(importance)\n",
    "features = ['BetOdds', 'FiveThirtyEightOdds', 'RankOdds']\n",
    "for i,v in enumerate(importance):\n",
    "    print('Feature: %s, Score: %.5f' % (features[i],v))"
   ]
  },
  {
   "cell_type": "markdown",
   "metadata": {
    "extensions": {
     "jupyter_dashboards": {
      "version": 1,
      "views": {
       "grid_default": {},
       "report_default": {
        "hidden": false
       }
      }
     }
    }
   },
   "source": [
    "#### Viewing Predictions\n",
    "\n",
    "Celtics  -  Now that the model is seeing all four seasons of data (albeit 75% of that data), a team that always had a bet payout of -100 USD has more noise, leading to one erroneous bump where conditions looked like a positive payout was likely\n",
    "\n",
    "Cavaliers  -  The model is able to fill in the blanks around a championship win based on training with similar data and is able to predict a bet payout of -100 for the next three seasons, with some noisy bumps\n",
    "\n",
    "Raptors  -  Now that the model has seen some of the Raptors winning season, it is able to fill in the blanks around the championship win based on training with similar data. The model also predicts the correct bet payout of -100  for the previous three seasons\n",
    "\n",
    "Warriors  -  The fact the model has seen 75% of the warriors seasons increases noise a little, but the model still tracks championship vs. non-champinoship seasons pretty well\n"
   ]
  },
  {
   "cell_type": "code",
   "execution_count": null,
   "metadata": {
    "extensions": {
     "jupyter_dashboards": {
      "version": 1,
      "views": {
       "grid_default": {},
       "report_default": {
        "hidden": false
       }
      }
     }
    }
   },
   "outputs": [],
   "source": [
    "@interact(team = teams)\n",
    "def plotRandomForestPrediction(team):\n",
    "    df_X_test = X_test[(X_test.TeamName == team)].sort_values('Date')\n",
    "    df_y_test = y_test[(y_test.TeamName == team)].sort_values('Date')\n",
    "    pred_payout = rf.predict(df_X_test[['BetOdds','FiveThirtyEightOdds', 'RankOdds']])\n",
    "    df_pred = pd.DataFrame()\n",
    "    df_pred['Date'] = df_X_test.Date\n",
    "    df_pred['ActualPayout'] = df_y_test.Payout\n",
    "    df_pred['PredictedPayout'] = pred_payout\n",
    "    \n",
    "    ax = df_pred.plot(x=\"Date\", y=['ActualPayout','PredictedPayout'], title=\"2015-2019 \" + team)\n",
    "    # ax.axvline(splitDate, color='k', linestyle='--')\n",
    "    # ax.set_ylim(-125, 7500)\n",
    "    ax.set_ylabel('Payout')\n",
    "    ax.legend(['Actual Bet Payout', 'Predicted Bet Payout'], bbox_to_anchor=(1.05,1), loc='upper left')\n",
    "\n",
    "print(\"Only test data is displayed\")"
   ]
  },
  {
   "cell_type": "markdown",
   "metadata": {
    "extensions": {
     "jupyter_dashboards": {
      "version": 1,
      "views": {
       "grid_default": {},
       "report_default": {
        "hidden": false
       }
      }
     }
    }
   },
   "source": [
    "# Conclusions (WHAT)"
   ]
  },
  {
   "cell_type": "markdown",
   "metadata": {
    "extensions": {
     "jupyter_dashboards": {
      "version": 1,
      "views": {
       "grid_default": {},
       "report_default": {
        "hidden": false
       }
      }
     }
    }
   },
   "source": [
    "## Analysis Results (Everyone add their own)"
   ]
  },
  {
   "cell_type": "markdown",
   "metadata": {
    "extensions": {
     "jupyter_dashboards": {
      "version": 1,
      "views": {
       "grid_default": {},
       "report_default": {
        "hidden": false
       }
      }
     }
    }
   },
   "source": [
    "## Which Odds-Method is Best?"
   ]
  },
  {
   "cell_type": "markdown",
   "metadata": {
    "extensions": {
     "jupyter_dashboards": {
      "version": 1,
      "views": {
       "grid_default": {},
       "report_default": {
        "hidden": true
       }
      }
     }
    }
   },
   "source": [
    "# BANK OF PLOTS/VISUALS/CODE TO PULL FROM (Evan, but feel free to add)"
   ]
  },
  {
   "cell_type": "code",
   "execution_count": null,
   "metadata": {
    "extensions": {
     "jupyter_dashboards": {
      "version": 1,
      "views": {
       "grid_default": {},
       "report_default": {
        "hidden": false
       }
      }
     }
    },
    "scrolled": true
   },
   "outputs": [],
   "source": [
    "@interact(year=['2016','2017','2018','2019'])\n",
    "def plotYear(year):\n",
    "    ii = df_champs[df_champs.Year == int(year)].index[0]\n",
    "    \n",
    "    df_champion_538 = df_538[(df_538.Year == df_champs.iloc[ii,0]) & (df_538.TeamName == df_champs.iloc[ii,1])]\n",
    "    df_champion_bet = df_bet[(df_bet.Year == df_champs.iloc[ii,0]) & (df_bet.TeamName == df_champs.iloc[ii,1])]    \n",
    "    df_champion_PR = df_PR[(df_PR.Year == df_champs.iloc[ii,0]) & (df_PR.TeamName == df_champs.iloc[ii,1])]\n",
    "    \n",
    "    df_champion_bet.sort_values('Date').plot('Date', 'Odds', title=str(df_champs.iloc[ii,0]-1)+'-'+str(df_champs.iloc[ii,0]) + ' ' + str(df_champs.iloc[ii,1]) + ' Betting Odds')\n",
    "    df_champion_538.sort_values('Date').plot('Date', 'Odds', title=str(df_champs.iloc[ii,0]-1)+'-'+str(df_champs.iloc[ii,0]) + ' ' + str(df_champs.iloc[ii,1]) + ' Model Odds')\n",
    "    df_champion_PR.sort_values('Date').plot('Date', 'Rank', title=str(df_champs.iloc[ii,0]-1)+'-'+str(df_champs.iloc[ii,0]) + ' ' + str(df_champs.iloc[ii,1]) + \" Power Rank\", ylim=(10,0.75))"
   ]
  },
  {
   "cell_type": "code",
   "execution_count": null,
   "metadata": {
    "extensions": {
     "jupyter_dashboards": {
      "version": 1,
      "views": {
       "grid_default": {},
       "report_default": {
        "hidden": false
       }
      }
     }
    }
   },
   "outputs": [],
   "source": [
    "teamFrames = [df_bet.TeamName, df_538.TeamName, df_PR.TeamName]\n",
    "teams = pd.concat(teamFrames).unique()\n",
    "\n",
    "@interact(team = teams, year = ['2016','2017','2018','2019'])\n",
    "def plotYear(team, year):\n",
    "    ii = df_champs[df_champs.Year == int(year)].index[0]\n",
    "    \n",
    "    df_team_538 = df_538[(df_538.Year == int(year)) & (df_538.TeamName == team)]\n",
    "    df_team_bet = df_bet[(df_bet.Year == int(year)) & (df_bet.TeamName == team)]    \n",
    "    df_team_PR = df_PR[(df_PR.Year == int(year)) & (df_PR.TeamName == team)]\n",
    "    \n",
    "    ax = df_team_bet.sort_values('Date').plot(x=\"Date\", y=\"Odds\", title=str(df_champs.iloc[ii,0]-1)+'-'+str(df_champs.iloc[ii,0]) + ' ' + team)\n",
    "    df_team_538.sort_values('Date').plot(x=\"Date\", y=\"Odds\", ax=ax, title=str(df_champs.iloc[ii,0]-1)+'-'+str(df_champs.iloc[ii,0]) + ' ' + team)\n",
    "    try:\n",
    "        df_team_PR.sort_values('Date').plot(x=\"Date\", y=\"Rank\", ax=ax, secondary_y = True, mark_right = False, title=str(df_champs.iloc[ii,0]-1)+'-'+str(df_champs.iloc[ii,0]) + ' ' + team)\n",
    "        ax.right_ax.set_ylabel('Rank')\n",
    "        ax.right_ax.set_ylim(10, 0.75)\n",
    "        ax.right_ax.legend(['Power Rank'], bbox_to_anchor=(1.05,0.8), loc='upper left')\n",
    "    except:\n",
    "        print('The '+team+' were never ranked throughout the '+str(int(year)-1)+'-'+year+' season.')\n",
    "    ax.set_ylabel('Odds')\n",
    "    ax.legend(['Betting Odds', 'FiveThirtyEight Odds'], bbox_to_anchor=(1.05,1), loc='upper left')"
   ]
  },
  {
   "cell_type": "code",
   "execution_count": null,
   "metadata": {
    "extensions": {
     "jupyter_dashboards": {
      "version": 1,
      "views": {
       "grid_default": {},
       "report_default": {
        "hidden": false
       }
      }
     }
    }
   },
   "outputs": [],
   "source": [
    "years = ['2016','2017','2018','2019']\n",
    "for year in years:\n",
    "    ii = df_champs[df_champs.Year == int(year)].index[0]\n",
    "    \n",
    "    df_champion_538 = df_538[(df_538.Year == df_champs.iloc[ii,0]) & (df_538.TeamName == df_champs.iloc[ii,1])]\n",
    "    df_champion_bet = df_bet[(df_bet.Year == df_champs.iloc[ii,0]) & (df_bet.TeamName == df_champs.iloc[ii,1])]    \n",
    "    df_champion_PR = df_PR[(df_PR.Year == df_champs.iloc[ii,0]) & (df_PR.TeamName == df_champs.iloc[ii,1])]\n",
    "    \n",
    "    ax = df_champion_bet.sort_values('Date').plot(x=\"Date\", y=\"Odds\", title=str(df_champs.iloc[ii,0]-1)+'-'+str(df_champs.iloc[ii,0]) + ' ' + str(df_champs.iloc[ii,1]))\n",
    "    df_champion_538.sort_values('Date').plot(x=\"Date\", y=\"Odds\", ax=ax, title=str(df_champs.iloc[ii,0]-1)+'-'+str(df_champs.iloc[ii,0]) + ' ' + str(df_champs.iloc[ii,1]))\n",
    "    df_champion_PR.sort_values('Date').plot(x=\"Date\", y=\"Rank\", ax=ax, secondary_y = True, mark_right = False, title=str(df_champs.iloc[ii,0]-1)+'-'+str(df_champs.iloc[ii,0]) + ' ' + str(df_champs.iloc[ii,1]))\n",
    "    ax.set_ylabel('Odds')\n",
    "    ax.right_ax.set_ylabel('Rank')\n",
    "    ax.right_ax.set_ylim(10, 0.75)\n",
    "    ax.legend(['Betting Odds', 'FiveThirtyEight Odds'], bbox_to_anchor=(1.05,1), loc='upper left')\n",
    "    ax.right_ax.legend(['Power Rank'], bbox_to_anchor=(1.05,0.8), loc='upper left')"
   ]
  },
  {
   "cell_type": "code",
   "execution_count": null,
   "metadata": {
    "extensions": {
     "jupyter_dashboards": {
      "version": 1,
      "views": {
       "grid_default": {},
       "report_default": {
        "hidden": false
       }
      }
     }
    }
   },
   "outputs": [],
   "source": [
    "@interact(year=['2015-2016 Cavaliers','2016-2017 Warriors','2017-2018 Warriors','2018-2019 Raptors'])\n",
    "def plotYear(year):\n",
    "# years = ['2016','2017','2018','2019']\n",
    "# for year in years:\n",
    "    year = year[5:9]\n",
    "    ii = df_champs[df_champs.Year == int(year)].index[0]\n",
    "\n",
    "    df_champion_538 = df_538[(df_538.Year == df_champs.iloc[ii,0]) & (df_538.TeamName == df_champs.iloc[ii,1])]\n",
    "    df_champion_bet = df_bet[(df_bet.Year == df_champs.iloc[ii,0]) & (df_bet.TeamName == df_champs.iloc[ii,1])]    \n",
    "    df_champion_PR = df_PR[(df_PR.Year == df_champs.iloc[ii,0]) & (df_PR.TeamName == df_champs.iloc[ii,1])]\n",
    "\n",
    "    ax = df_champion_bet.sort_values('Date').plot(x=\"Date\", y=\"Odds\", title=str(df_champs.iloc[ii,0]-1)+'-'+str(df_champs.iloc[ii,0]) + ' ' + str(df_champs.iloc[ii,1]))\n",
    "    df_champion_538.sort_values('Date').plot(x=\"Date\", y=\"Odds\", ax=ax, title=str(df_champs.iloc[ii,0]-1)+'-'+str(df_champs.iloc[ii,0]) + ' ' + str(df_champs.iloc[ii,1]))\n",
    "    df_champion_PR.sort_values('Date').plot(x=\"Date\", y=\"Rank\", ax=ax, secondary_y = True, mark_right = False, title=str(df_champs.iloc[ii,0]-1)+'-'+str(df_champs.iloc[ii,0]) + ' ' + str(df_champs.iloc[ii,1]))\n",
    "    ax.set_ylabel('Odds')\n",
    "    ax.right_ax.set_ylabel('Rank')\n",
    "    ax.right_ax.set_ylim(10, 0.75)\n",
    "    ax.legend(['Betting Odds', 'FiveThirtyEight Odds'], bbox_to_anchor=(1.05,1), loc='upper left')\n",
    "    ax.right_ax.legend(['Power Rank'], bbox_to_anchor=(1.05,0.8), loc='upper left')"
   ]
  },
  {
   "cell_type": "code",
   "execution_count": null,
   "metadata": {
    "extensions": {
     "jupyter_dashboards": {
      "version": 1,
      "views": {
       "grid_default": {},
       "report_default": {
        "hidden": true
       }
      }
     }
    }
   },
   "outputs": [],
   "source": [
    "# Q1: HOW MUCH BETTER IS FIVETHIRTYEIGHT THAN THE BETTING MARKET? IS IT BETTER?\n",
    "# @interact(year=['2015-2016 Cavaliers','2016-2017 Warriors','2017-2018 Warriors','2018-2019 Raptors'])\n",
    "# def plotYear(year):\n",
    "#     year = year[5:9]\n",
    "#     ii = df_champs[df_champs.Year == int(year)].index[0]\n",
    "    \n",
    "#     df_champion_538 = df_538[(df_538.Year == df_champs.iloc[ii,0]) & (df_538.TeamName == df_champs.iloc[ii,1])].sort_values('Date')\n",
    "#     df_champion_bet = df_bet[(df_bet.Year == df_champs.iloc[ii,0]) & (df_bet.TeamName == df_champs.iloc[ii,1])].sort_values('Date')\n",
    "#     df_champion_PR = df_PR[(df_PR.Year == df_champs.iloc[ii,0]) & (df_PR.TeamName == df_champs.iloc[ii,1])].sort_values('Date')\n",
    "    \n",
    "#     ax = df_champion_bet.plot(x=\"Date\", y=\"Odds\", title=str(df_champs.iloc[ii,0]-1)+'-'+str(df_champs.iloc[ii,0]) + ' ' + str(df_champs.iloc[ii,1]))\n",
    "#     df_champion_538.plot(x=\"Date\", y=\"Odds\", ax=ax, title=str(df_champs.iloc[ii,0]-1)+'-'+str(df_champs.iloc[ii,0]) + ' ' + str(df_champs.iloc[ii,1]))\n",
    "#     p.fill(df_champion_bet.Date, df_champion_bet.Odds, df_champion_alpha=0.1)\n",
    "#     # df_champion_PR.sort_values('Date').plot(x=\"Date\", y=\"Rank\", ax=ax, secondary_y = True, mark_right = False, title=str(df_champs.iloc[ii,0]-1)+'-'+str(df_champs.iloc[ii,0]) + ' ' + str(df_champs.iloc[ii,1]))\n",
    "#     # ax.right_ax.set_ylabel('Rank')\n",
    "#     # ax.right_ax.set_ylim(10, 0.75)\n",
    "#     # ax.right_ax.legend(['Power Rank'], bbox_to_anchor=(1.05,0.8), loc='upper left')\n",
    "#     ax.set_ylabel('Odds')\n",
    "#     ax.legend(['Betting Odds', 'FiveThirtyEight Odds'], bbox_to_anchor=(1.05,1), loc='upper left')\n"
   ]
  },
  {
   "cell_type": "code",
   "execution_count": null,
   "metadata": {
    "extensions": {
     "jupyter_dashboards": {
      "version": 1,
      "views": {
       "grid_default": {},
       "report_default": {
        "hidden": false
       }
      }
     }
    }
   },
   "outputs": [],
   "source": [
    "teamFrames = [df_betSamples.TeamName]\n",
    "teams = pd.concat(teamFrames).unique()\n",
    "@interact(team = teams)\n",
    "def plotPayout(team):\n",
    "    df_champion_betSamples = df_betSamples[(df_betSamples.TeamName == team)].sort_values('Date')\n",
    "    \n",
    "    ax = df_champion_betSamples.plot(x=\"Date\", y=['Payout'])\n",
    "    df_champion_betSamples.plot(x=\"Date\",y=['BetOdds','FiveThirtyEightOdds'], ax=ax, secondary_y = True, mark_right = True, title=\"2015-2019 \" + team)\n",
    "    ax.right_ax.set_ylabel('Odds')\n",
    "    ax.right_ax.legend(['Betting Odds', 'FiveThirtyEight Odds'], bbox_to_anchor=(1.05,1), loc='upper left')\n",
    "    ax.set_ylabel('Payout')\n",
    "    ax.legend(['Bet Payout'], bbox_to_anchor=(1.05,0.8), loc='upper left')"
   ]
  },
  {
   "cell_type": "code",
   "execution_count": null,
   "metadata": {
    "extensions": {
     "jupyter_dashboards": {
      "version": 1,
      "views": {
       "grid_default": {},
       "report_default": {
        "hidden": false
       }
      }
     }
    }
   },
   "outputs": [],
   "source": [
    "# Set date split for train/test\n",
    "splitDate = np.datetime64('2017-07-15')\n",
    "\n",
    "# Can't include Rank because of NaN values\n",
    "X = df_betSamples[['Date', 'BetOdds', 'FiveThirtyEightOdds']]\n",
    "y = df_betSamples[['Date', 'Payout']]\n",
    "# X_train,X_test,y_train,y_test = train_test_split(X,y,test_size=0.25,random_state=0)\n",
    "X_train = X[X.Date.to_numpy() < splitDate][['BetOdds', 'FiveThirtyEightOdds']]\n",
    "X_test = X[X.Date.to_numpy() > splitDate][['BetOdds', 'FiveThirtyEightOdds']]\n",
    "y_train = y[y.Date.to_numpy() < splitDate][['Payout']].values.ravel()\n",
    "y_test = y[y.Date.to_numpy() > splitDate][['Payout']].values.ravel()\n",
    "# print(y_test)\n",
    "rf = RandomForestRegressor(n_estimators=1000, bootstrap=True, oob_score = True)\n",
    "rf.fit(X_train,y_train)\n",
    "y_pred = rf.predict(X_test)\n",
    "# print(y_pred)\n",
    "errors = abs(y_pred - y_test)\n",
    "print('Mean Absolute Error (MAE): $', round(np.mean(errors), 2), '.')\n",
    "# Mean Absolute Percentage Error\n",
    "mape = abs(100 * (errors / y_test))\n",
    "accuracy = 100 - np.mean(mape)\n",
    "print('Mean Absolute Percentage Error (MAPE):', round(np.mean(mape), 2), '%.')\n",
    "print('Accuracy:', round(accuracy, 2), '%.')\n",
    "\n",
    "# Out of Bag calculations\n",
    "print()\n",
    "print('Out-of-Bag Error Estimate:', round(100 * (1-rf.oob_score_), 2), '%.')\n",
    "# oob_errors = abs(rf.oob_prediction_ - y_test)\n",
    "# print('Out-of-Bag Mean Absolute Error (MAE): $', round(np.mean(oob_errors), 2), '.')"
   ]
  },
  {
   "cell_type": "code",
   "execution_count": null,
   "metadata": {
    "extensions": {
     "jupyter_dashboards": {
      "version": 1,
      "views": {
       "grid_default": {},
       "report_default": {
        "hidden": false
       }
      }
     }
    }
   },
   "outputs": [],
   "source": [
    "@interact(team = teams)\n",
    "def plotPayout(team):\n",
    "    df_team_betSamples = df_betSamples[(df_betSamples.TeamName == team)].sort_values('Date')\n",
    "    pred_payout = rf.predict(df_team_betSamples[['BetOdds','FiveThirtyEightOdds']])\n",
    "    # print(pred_payout)\n",
    "    df_pred = pd.DataFrame()\n",
    "    df_pred['Date'] = df_team_betSamples.Date\n",
    "    df_pred['ActualPayout'] = df_team_betSamples.Payout\n",
    "    df_pred['PredictedPayout'] = pred_payout\n",
    "    \n",
    "    # display(df_pred)\n",
    "    \n",
    "    # df = pd.DataFrame(data = df_pred, columns = ['Date', 'ActualBetPayout', 'PredictedBetPayout'])\n",
    "    \n",
    "    ax = df_pred.plot(x=\"Date\", y=['ActualPayout','PredictedPayout'], title=\"2015-2019 \" + team)\n",
    "    ax.axvline(splitDate, color='k', linestyle='--')\n",
    "    # df_champion_betSamples.plot(x=\"Date\",y=['BetOdds','FiveThirtyEightOdds'], ax=ax, secondary_y = True, mark_right = True, title=str(df_champs.iloc[ii,0]-1)+'-'+str(df_champs.iloc[ii,0]) + ' ' + str(df_champs.iloc[ii,1]))\n",
    "    # df_champion_538.plot(x=\"Date\", y=\"Odds\", ax=ax, title=str(df_champs.iloc[ii,0]-1)+'-'+str(df_champs.iloc[ii,0]) + ' ' + str(df_champs.iloc[ii,1]))\n",
    "    # p.fill(df_champion_bet.Date, df_champion_bet.Odds, df_champion_alpha=0.1)\n",
    "    # df_champion_PR.sort_values('Date').plot(x=\"Date\", y=\"Rank\", ax=ax, secondary_y = True, mark_right = False, title=str(df_champs.iloc[ii,0]-1)+'-'+str(df_champs.iloc[ii,0]) + ' ' + str(df_champs.iloc[ii,1]))\n",
    "    # ax.right_ax.set_ylabel('Odds')\n",
    "    # ax.right_ax.set_ylim(10, 0.75)\n",
    "    # ax.right_ax.legend(['Betting Odds', 'FiveThirtyEight Odds'], bbox_to_anchor=(1.05,1), loc='upper left')\n",
    "    ax.set_ylabel('Payout')\n",
    "    ax.legend(['Actual Bet Payout', 'Predicted Bet Payout'], bbox_to_anchor=(1.05,1), loc='upper left')\n",
    "\n",
    "# display(df_betSamples)"
   ]
  },
  {
   "cell_type": "code",
   "execution_count": null,
   "metadata": {
    "extensions": {
     "jupyter_dashboards": {
      "version": 1,
      "views": {
       "grid_default": {},
       "report_default": {
        "hidden": true
       }
      }
     }
    }
   },
   "outputs": [],
   "source": []
  },
  {
   "cell_type": "code",
   "execution_count": null,
   "metadata": {
    "extensions": {
     "jupyter_dashboards": {
      "version": 1,
      "views": {
       "grid_default": {},
       "report_default": {
        "hidden": true
       }
      }
     }
    }
   },
   "outputs": [],
   "source": [
    "conn.close()"
   ]
  },
  {
   "cell_type": "code",
   "execution_count": null,
   "metadata": {
    "extensions": {
     "jupyter_dashboards": {
      "version": 1,
      "views": {
       "grid_default": {},
       "report_default": {
        "hidden": true
       }
      }
     }
    }
   },
   "outputs": [],
   "source": []
  }
 ],
 "metadata": {
  "extensions": {
   "jupyter_dashboards": {
    "activeView": "report_default",
    "version": 1,
    "views": {
     "grid_default": {
      "cellMargin": 10,
      "defaultCellHeight": 20,
      "maxColumns": 12,
      "name": "grid",
      "type": "grid"
     },
     "report_default": {
      "name": "report",
      "type": "report"
     }
    }
   }
  },
  "kernelspec": {
   "display_name": "Python 3",
   "language": "python",
   "name": "python3"
  },
  "language_info": {
   "codemirror_mode": {
    "name": "ipython",
    "version": 3
   },
   "file_extension": ".py",
   "mimetype": "text/x-python",
   "name": "python",
   "nbconvert_exporter": "python",
   "pygments_lexer": "ipython3",
   "version": "3.7.6"
  }
 },
 "nbformat": 4,
 "nbformat_minor": 2
}
